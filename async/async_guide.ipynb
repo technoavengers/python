{
 "cells": [
  {
   "cell_type": "markdown",
   "id": "a6cfd69c",
   "metadata": {},
   "source": [
    "# Asynchronous Programming in Python: A Comprehensive Guide\n",
    "\n",
    "This notebook provides a step-by-step guide to understanding and implementing asynchronous programming in Python using `async/await`. We'll cover everything from basic concepts to real-world applications.\n",
    "\n",
    "## What is Asynchronous Programming?\n",
    "\n",
    "Asynchronous programming is a programming paradigm that allows concurrent execution of multiple tasks without blocking the main program. In Python, this is achieved using coroutines, which are special functions that can pause their execution while waiting for operations to complete.\n",
    "\n",
    "Key concepts we'll cover:\n",
    "1. Coroutines with async/await\n",
    "2. Event loops\n",
    "3. Tasks and concurrent execution\n",
    "4. Async context managers\n",
    "5. Error handling\n",
    "6. Real-world applications"
   ]
  },
  {
   "cell_type": "markdown",
   "id": "261108bd",
   "metadata": {},
   "source": [
    "## 1. Setting Up Async Environment\n",
    "\n",
    "First, let's set up our environment and understand the basics. We'll need the `asyncio` module, which is Python's standard library for writing asynchronous code using coroutines."
   ]
  },
  {
   "cell_type": "code",
   "execution_count": null,
   "id": "33f7a9c1",
   "metadata": {},
   "outputs": [],
   "source": [
    "import asyncio\n",
    "import time\n",
    "\n",
    "# A simple async function\n",
    "async def say_hello(delay, message):\n",
    "    await asyncio.sleep(delay)  # Non-blocking sleep\n",
    "    print(f\"{message} (after {delay} seconds)\")\n",
    "\n",
    "# Running a single coroutine\n",
    "async def main():\n",
    "    print(\"Start\")\n",
    "    await say_hello(1, \"Hello, Async World!\")\n",
    "    print(\"End\")\n",
    "\n",
    "# Run the async function\n",
    "print(\"Running async function...\")\n",
    "asyncio.run(main())"
   ]
  },
  {
   "cell_type": "markdown",
   "id": "e1b8f482",
   "metadata": {},
   "source": [
    "## 2. Basic Async/Await Example\n",
    "\n",
    "Now let's explore a more practical example that demonstrates the power of async programming. We'll create multiple coroutines and see how they can run concurrently."
   ]
  },
  {
   "cell_type": "code",
   "execution_count": null,
   "id": "c80c646b",
   "metadata": {},
   "outputs": [],
   "source": [
    "async def process_item(item, delay):\n",
    "    print(f\"Starting to process {item}\")\n",
    "    await asyncio.sleep(delay)  # Simulate some async work\n",
    "    print(f\"Finished processing {item}\")\n",
    "    return f\"Processed {item}\"\n",
    "\n",
    "async def main():\n",
    "    # Create multiple coroutines\n",
    "    start_time = time.time()\n",
    "    \n",
    "    tasks = [\n",
    "        process_item(\"Item 1\", 2),\n",
    "        process_item(\"Item 2\", 1),\n",
    "        process_item(\"Item 3\", 3)\n",
    "    ]\n",
    "    \n",
    "    # Run coroutines concurrently and gather results\n",
    "    results = await asyncio.gather(*tasks)\n",
    "    \n",
    "    end_time = time.time()\n",
    "    print(f\"\\nAll items processed in {end_time - start_time:.2f} seconds\")\n",
    "    print(\"Results:\", results)\n",
    "\n",
    "# Run the async function\n",
    "asyncio.run(main())"
   ]
  },
  {
   "cell_type": "markdown",
   "id": "147c2891",
   "metadata": {},
   "source": [
    "## 3. Working with Multiple Tasks\n",
    "\n",
    "Tasks are a way to schedule coroutines to run independently. Let's see how to create and manage multiple tasks using `asyncio.create_task()`."
   ]
  },
  {
   "cell_type": "code",
   "execution_count": null,
   "id": "ff84eda7",
   "metadata": {},
   "outputs": [],
   "source": [
    "async def long_running_task(name, duration):\n",
    "    print(f\"Task {name} starting...\")\n",
    "    try:\n",
    "        await asyncio.sleep(duration)\n",
    "        print(f\"Task {name} completed after {duration} seconds\")\n",
    "        return f\"Result from {name}\"\n",
    "    except asyncio.CancelledError:\n",
    "        print(f\"Task {name} was cancelled!\")\n",
    "        raise\n",
    "\n",
    "async def main():\n",
    "    # Create tasks\n",
    "    task1 = asyncio.create_task(long_running_task(\"A\", 3))\n",
    "    task2 = asyncio.create_task(long_running_task(\"B\", 2))\n",
    "    \n",
    "    # Wait for both tasks to complete\n",
    "    try:\n",
    "        results = await asyncio.gather(task1, task2)\n",
    "        print(\"All tasks completed:\", results)\n",
    "    except asyncio.CancelledError:\n",
    "        print(\"Some tasks were cancelled!\")\n",
    "\n",
    "# Run the async function\n",
    "asyncio.run(main())"
   ]
  },
  {
   "cell_type": "markdown",
   "id": "7109a6f0",
   "metadata": {},
   "source": [
    "## 4. Async Context Managers\n",
    "\n",
    "Async context managers are useful for managing resources that need to be acquired and released asynchronously. Here's an example using an async context manager for a simulated database connection."
   ]
  },
  {
   "cell_type": "code",
   "execution_count": null,
   "id": "2e54ffbe",
   "metadata": {},
   "outputs": [],
   "source": [
    "class AsyncDatabaseConnection:\n",
    "    async def __aenter__(self):\n",
    "        # Simulate connecting to a database\n",
    "        print(\"Connecting to database...\")\n",
    "        await asyncio.sleep(1)\n",
    "        print(\"Connected!\")\n",
    "        return self\n",
    "    \n",
    "    async def __aexit__(self, exc_type, exc_val, exc_tb):\n",
    "        # Simulate closing the connection\n",
    "        print(\"Closing connection...\")\n",
    "        await asyncio.sleep(0.5)\n",
    "        print(\"Connection closed!\")\n",
    "    \n",
    "    async def query(self, query):\n",
    "        # Simulate a database query\n",
    "        print(f\"Executing query: {query}\")\n",
    "        await asyncio.sleep(1)\n",
    "        return [f\"Result for {query}\"]\n",
    "\n",
    "async def main():\n",
    "    async with AsyncDatabaseConnection() as db:\n",
    "        result = await db.query(\"SELECT * FROM users\")\n",
    "        print(\"Query result:\", result)\n",
    "\n",
    "# Run the example\n",
    "asyncio.run(main())"
   ]
  },
  {
   "cell_type": "markdown",
   "id": "4bf41da4",
   "metadata": {},
   "source": [
    "## 5. Error Handling in Async Code\n",
    "\n",
    "Error handling in async code is similar to synchronous code, but there are some special considerations for handling timeouts and cancellations."
   ]
  },
  {
   "cell_type": "code",
   "execution_count": null,
   "id": "f504a59a",
   "metadata": {},
   "outputs": [],
   "source": [
    "async def risky_operation(timeout):\n",
    "    try:\n",
    "        print(\"Starting risky operation...\")\n",
    "        await asyncio.sleep(timeout)\n",
    "        print(\"Operation completed successfully!\")\n",
    "        return \"Success\"\n",
    "    except asyncio.TimeoutError:\n",
    "        print(\"Operation timed out!\")\n",
    "        raise\n",
    "    except asyncio.CancelledError:\n",
    "        print(\"Operation was cancelled!\")\n",
    "        raise\n",
    "    except Exception as e:\n",
    "        print(f\"An error occurred: {e}\")\n",
    "        raise\n",
    "\n",
    "async def main():\n",
    "    try:\n",
    "        # Try to run the operation with a timeout\n",
    "        result = await asyncio.wait_for(risky_operation(5), timeout=3)\n",
    "        print(\"Result:\", result)\n",
    "    except asyncio.TimeoutError:\n",
    "        print(\"The operation took too long!\")\n",
    "    except Exception as e:\n",
    "        print(f\"Caught an error: {e}\")\n",
    "\n",
    "# Run the example\n",
    "asyncio.run(main())"
   ]
  },
  {
   "cell_type": "markdown",
   "id": "90cd20b3",
   "metadata": {},
   "source": [
    "## 6. Real-world Example: Async Web Requests\n",
    "\n",
    "Let's create a practical example using `aiohttp` to perform concurrent web requests. First, we need to install the `aiohttp` package."
   ]
  },
  {
   "cell_type": "code",
   "execution_count": null,
   "id": "870b52d2",
   "metadata": {},
   "outputs": [],
   "source": [
    "# Install aiohttp if not already installed\n",
    "import sys\n",
    "import subprocess\n",
    "subprocess.check_call([sys.executable, '-m', 'pip', 'install', 'aiohttp'])"
   ]
  },
  {
   "cell_type": "code",
   "execution_count": null,
   "id": "278b1eed",
   "metadata": {},
   "outputs": [],
   "source": [
    "import aiohttp\n",
    "import asyncio\n",
    "import time\n",
    "\n",
    "async def fetch_url(session, url):\n",
    "    async with session.get(url) as response:\n",
    "        return await response.text()\n",
    "\n",
    "async def main():\n",
    "    # List of URLs to fetch\n",
    "    urls = [\n",
    "        'https://api.github.com/events',\n",
    "        'https://api.github.com/repos/python/cpython',\n",
    "        'https://api.github.com/repos/pallets/flask'\n",
    "    ]\n",
    "    \n",
    "    start_time = time.time()\n",
    "    \n",
    "    async with aiohttp.ClientSession() as session:\n",
    "        # Create tasks for each URL\n",
    "        tasks = [fetch_url(session, url) for url in urls]\n",
    "        \n",
    "        # Gather all results\n",
    "        results = await asyncio.gather(*tasks, return_exceptions=True)\n",
    "        \n",
    "        # Process results\n",
    "        for url, result in zip(urls, results):\n",
    "            if isinstance(result, Exception):\n",
    "                print(f\"Error fetching {url}: {result}\")\n",
    "            else:\n",
    "                print(f\"Successfully fetched {url}, length: {len(result)} characters\")\n",
    "    \n",
    "    end_time = time.time()\n",
    "    print(f\"\\nFetched {len(urls)} URLs in {end_time - start_time:.2f} seconds\")\n",
    "\n",
    "# Run the example\n",
    "asyncio.run(main())"
   ]
  },
  {
   "cell_type": "markdown",
   "id": "8272e001",
   "metadata": {},
   "source": [
    "## Conclusion\n",
    "\n",
    "This notebook has demonstrated the key concepts of asynchronous programming in Python:\n",
    "\n",
    "1. Basic async/await syntax and coroutines\n",
    "2. Running multiple tasks concurrently\n",
    "3. Using async context managers\n",
    "4. Handling errors in async code\n",
    "5. Real-world application with web requests\n",
    "\n",
    "Async programming is particularly useful for I/O-bound tasks like:\n",
    "- Web scraping\n",
    "- API calls\n",
    "- Database operations\n",
    "- File operations\n",
    "\n",
    "Remember that async programming is not suitable for CPU-bound tasks - for those, you should use multiprocessing instead."
   ]
  }
 ],
 "metadata": {
  "language_info": {
   "name": "python"
  }
 },
 "nbformat": 4,
 "nbformat_minor": 5
}
