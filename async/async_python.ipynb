{
 "cells": [
  {
   "cell_type": "markdown",
   "id": "d6aa9af9",
   "metadata": {},
   "source": [
    "### Why async?\n",
    "\n",
    "- **Synchronous code**: Like a waiter who serves one table at a time—if one customer is slow, everyone waits.\n",
    "- **Asynchronous code**: Like a waiter who takes multiple orders and helps other tables while waiting for food—more efficient, as waiting time is used to do other work."
   ]
  },
  {
   "cell_type": "markdown",
   "id": "0c20c0c7",
   "metadata": {},
   "source": [
    "🧩 Step 2: The core keywords\n",
    "\n",
    "async → defines a function as asynchronous (called a coroutine).\n",
    "\n",
    "await → pauses until an async task finishes, without blocking the whole program."
   ]
  },
  {
   "cell_type": "code",
   "execution_count": null,
   "id": "fe4c7c97",
   "metadata": {},
   "outputs": [],
   "source": [
    "import asyncio\n",
    "\n",
    "async def task(name, seconds):\n",
    "    print(f\"Task {name} started\")\n",
    "    await asyncio.sleep(seconds)\n",
    "    print(f\"Task {name} finished after {seconds} sec\")\n",
    "\n",
    "async def main():\n",
    "    # run tasks together\n",
    "    await asyncio.gather(\n",
    "        task(\"A\", 2),\n",
    "        task(\"B\", 3),\n",
    "        task(\"C\", 1)\n",
    "    )\n",
    "\n",
    "await main()\n"
   ]
  },
  {
   "cell_type": "markdown",
   "id": "b7211c6b",
   "metadata": {},
   "source": [
    "✅ That’s the heart of async:\n",
    "👉 Don’t wait doing nothing — let others run while one is waiting."
   ]
  },
  {
   "cell_type": "markdown",
   "id": "ed5979d7",
   "metadata": {},
   "source": [
    "🧩 Step 4: Where is async useful?\n",
    "\n",
    "Web scraping → fetching 100 websites at once\n",
    "\n",
    "APIs → calling multiple microservices simultaneously\n",
    "\n",
    "Chatbots & servers → handling many users together\n",
    "\n",
    "(Not useful for CPU-heavy tasks like ML training — for that you’d use multiprocessing/threads.)"
   ]
  },
  {
   "cell_type": "markdown",
   "id": "e72be384",
   "metadata": {},
   "source": [
    "🚦 Step 1: The Problem\n",
    "\n",
    "Imagine you build an API that:\n",
    "\n",
    "Fetches weather data from another service\n",
    "\n",
    "Each call takes 2–3 seconds\n",
    "\n",
    "👉 If your server is synchronous:\n",
    "\n",
    "User 1 makes request → server is busy → User 2 has to wait until User 1 is done.\n",
    "\n",
    "👉 If your server is asynchronous:\n",
    "\n",
    "User 1 makes request (waiting for API) → server handles User 2 in the meantime.\n",
    "\n",
    "Many users can be served together, without blocking."
   ]
  },
  {
   "cell_type": "markdown",
   "id": "25fafd14",
   "metadata": {},
   "source": [
    "🚀 Step 2: FastAPI async route\n",
    "\n",
    "Here’s a simple async FastAPI app:"
   ]
  },
  {
   "cell_type": "code",
   "execution_count": null,
   "id": "27a37285",
   "metadata": {},
   "outputs": [],
   "source": [
    "%pip install fastapi uvicorn\n",
    "!uvicorn myapp:app --host 127.0.0.1 --port 8000 --reload\n",
    "%pip install requests-futures"
   ]
  }
 ],
 "metadata": {
  "kernelspec": {
   "display_name": "myenv",
   "language": "python",
   "name": "python3"
  },
  "language_info": {
   "codemirror_mode": {
    "name": "ipython",
    "version": 3
   },
   "file_extension": ".py",
   "mimetype": "text/x-python",
   "name": "python",
   "nbconvert_exporter": "python",
   "pygments_lexer": "ipython3",
   "version": "3.13.7"
  }
 },
 "nbformat": 4,
 "nbformat_minor": 5
}
