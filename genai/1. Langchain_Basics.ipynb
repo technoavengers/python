{
 "cells": [
  {
   "cell_type": "markdown",
   "id": "08a39969",
   "metadata": {},
   "source": [
    "# LangChain + OpenAI: Getting Started Lab 🤖\n",
    "\n",
    "Welcome to the LangChain + OpenAI lab! In this hands-on notebook, you'll learn how to use LangChain to interact with OpenAI's powerful language models. We'll cover everything from installing dependencies to sending your first prompt and interpreting the model's response.\n",
    "\n",
    "LangChain makes it easy to build advanced AI applications, and OpenAI's models can answer questions, generate text, and much more. By the end of this lab, you'll have a working demo and a foundation for your own AI projects.\n",
    "\n",
    "---\n",
    "*Meet Robo, your futuristic AI assistant for this lab!*\n",
    "\n",
    "<table><tr>\n",
    "<td><img src=\"images/robo1.png\" alt=\"Robo the AI Assistant\" width=\"150\" style=\"float:right; margin-left:20px;\" /></td>\n",
    "<td style=\"vertical-align:top; padding-left:20px;\">\n",
    "<i>\"I run on coffee, code, and a little bit of magic!\"</i><br>\n",
    "<i>Ask me anything... except for my WiFi password! 🤖☕</i>\n",
    "</td>\n",
    "</tr></table>\n",
    "\n"
   ]
  },
  {
   "cell_type": "markdown",
   "id": "2c3afb00",
   "metadata": {},
   "source": [
    "# Install Required Packages\n",
    "To use LangChain with OpenAI, you need to install the following Python packages:\n",
    "- `langchain-openai`: LangChain integration for OpenAI models\n",
    "- `langchain_community`: Community-contributed LangChain tools\n",
    "- `python-dotenv`: For loading environment variables from a `.env` file\n",
    "\n",
    "Run the following cell to install them."
   ]
  },
  {
   "cell_type": "code",
   "execution_count": 2,
   "id": "47f5d649",
   "metadata": {},
   "outputs": [
    {
     "name": "stdout",
     "output_type": "stream",
     "text": [
      "Requirement already satisfied: langchain-openai in c:\\users\\lenovo\\genaicoding\\venv\\lib\\site-packages (from -r requirements.txt (line 1)) (0.3.31)\n",
      "Requirement already satisfied: langchain_community in c:\\users\\lenovo\\genaicoding\\venv\\lib\\site-packages (from -r requirements.txt (line 2)) (0.3.27)\n",
      "Requirement already satisfied: langchain in c:\\users\\lenovo\\genaicoding\\venv\\lib\\site-packages (from -r requirements.txt (line 3)) (0.3.27)\n",
      "Requirement already satisfied: python-dotenv in c:\\users\\lenovo\\genaicoding\\venv\\lib\\site-packages (from -r requirements.txt (line 4)) (1.1.1)\n",
      "Requirement already satisfied: faiss-cpu in c:\\users\\lenovo\\genaicoding\\venv\\lib\\site-packages (from -r requirements.txt (line 5)) (1.12.0)\n",
      "Requirement already satisfied: pypdf in c:\\users\\lenovo\\genaicoding\\venv\\lib\\site-packages (from -r requirements.txt (line 6)) (6.0.0)\n",
      "Requirement already satisfied: openai in c:\\users\\lenovo\\genaicoding\\venv\\lib\\site-packages (from -r requirements.txt (line 7)) (1.101.0)\n",
      "Requirement already satisfied: requests in c:\\users\\lenovo\\genaicoding\\venv\\lib\\site-packages (from -r requirements.txt (line 8)) (2.32.5)\n",
      "Requirement already satisfied: twilio in c:\\users\\lenovo\\genaicoding\\venv\\lib\\site-packages (from -r requirements.txt (line 9)) (9.7.1)\n",
      "Requirement already satisfied: google-search-results in c:\\users\\lenovo\\genaicoding\\venv\\lib\\site-packages (from -r requirements.txt (line 10)) (2.4.2)\n",
      "Requirement already satisfied: wolframalpha in c:\\users\\lenovo\\genaicoding\\venv\\lib\\site-packages (from -r requirements.txt (line 11)) (5.1.3)\n",
      "Requirement already satisfied: fastmcp in c:\\users\\lenovo\\genaicoding\\venv\\lib\\site-packages (from -r requirements.txt (line 12)) (2.11.3)\n",
      "Requirement already satisfied: langchain-core<1.0.0,>=0.3.74 in c:\\users\\lenovo\\genaicoding\\venv\\lib\\site-packages (from langchain-openai->-r requirements.txt (line 1)) (0.3.74)\n",
      "Requirement already satisfied: tiktoken<1,>=0.7 in c:\\users\\lenovo\\genaicoding\\venv\\lib\\site-packages (from langchain-openai->-r requirements.txt (line 1)) (0.11.0)\n",
      "Requirement already satisfied: anyio<5,>=3.5.0 in c:\\users\\lenovo\\genaicoding\\venv\\lib\\site-packages (from openai->-r requirements.txt (line 7)) (4.10.0)\n",
      "Requirement already satisfied: distro<2,>=1.7.0 in c:\\users\\lenovo\\genaicoding\\venv\\lib\\site-packages (from openai->-r requirements.txt (line 7)) (1.9.0)\n",
      "Requirement already satisfied: httpx<1,>=0.23.0 in c:\\users\\lenovo\\genaicoding\\venv\\lib\\site-packages (from openai->-r requirements.txt (line 7)) (0.28.1)\n",
      "Requirement already satisfied: jiter<1,>=0.4.0 in c:\\users\\lenovo\\genaicoding\\venv\\lib\\site-packages (from openai->-r requirements.txt (line 7)) (0.10.0)\n",
      "Requirement already satisfied: pydantic<3,>=1.9.0 in c:\\users\\lenovo\\genaicoding\\venv\\lib\\site-packages (from openai->-r requirements.txt (line 7)) (2.11.7)\n",
      "Requirement already satisfied: sniffio in c:\\users\\lenovo\\genaicoding\\venv\\lib\\site-packages (from openai->-r requirements.txt (line 7)) (1.3.1)\n",
      "Requirement already satisfied: tqdm>4 in c:\\users\\lenovo\\genaicoding\\venv\\lib\\site-packages (from openai->-r requirements.txt (line 7)) (4.67.1)\n",
      "Requirement already satisfied: typing-extensions<5,>=4.11 in c:\\users\\lenovo\\genaicoding\\venv\\lib\\site-packages (from openai->-r requirements.txt (line 7)) (4.14.1)\n",
      "Requirement already satisfied: idna>=2.8 in c:\\users\\lenovo\\genaicoding\\venv\\lib\\site-packages (from anyio<5,>=3.5.0->openai->-r requirements.txt (line 7)) (3.10)\n",
      "Requirement already satisfied: certifi in c:\\users\\lenovo\\genaicoding\\venv\\lib\\site-packages (from httpx<1,>=0.23.0->openai->-r requirements.txt (line 7)) (2025.8.3)\n",
      "Requirement already satisfied: httpcore==1.* in c:\\users\\lenovo\\genaicoding\\venv\\lib\\site-packages (from httpx<1,>=0.23.0->openai->-r requirements.txt (line 7)) (1.0.9)\n",
      "Requirement already satisfied: h11>=0.16 in c:\\users\\lenovo\\genaicoding\\venv\\lib\\site-packages (from httpcore==1.*->httpx<1,>=0.23.0->openai->-r requirements.txt (line 7)) (0.16.0)\n",
      "Requirement already satisfied: langsmith>=0.3.45 in c:\\users\\lenovo\\genaicoding\\venv\\lib\\site-packages (from langchain-core<1.0.0,>=0.3.74->langchain-openai->-r requirements.txt (line 1)) (0.4.15)\n",
      "Requirement already satisfied: tenacity!=8.4.0,<10.0.0,>=8.1.0 in c:\\users\\lenovo\\genaicoding\\venv\\lib\\site-packages (from langchain-core<1.0.0,>=0.3.74->langchain-openai->-r requirements.txt (line 1)) (9.1.2)\n",
      "Requirement already satisfied: jsonpatch<2.0,>=1.33 in c:\\users\\lenovo\\genaicoding\\venv\\lib\\site-packages (from langchain-core<1.0.0,>=0.3.74->langchain-openai->-r requirements.txt (line 1)) (1.33)\n",
      "Requirement already satisfied: PyYAML>=5.3 in c:\\users\\lenovo\\genaicoding\\venv\\lib\\site-packages (from langchain-core<1.0.0,>=0.3.74->langchain-openai->-r requirements.txt (line 1)) (6.0.2)\n",
      "Requirement already satisfied: packaging>=23.2 in c:\\users\\lenovo\\genaicoding\\venv\\lib\\site-packages (from langchain-core<1.0.0,>=0.3.74->langchain-openai->-r requirements.txt (line 1)) (25.0)\n",
      "Requirement already satisfied: jsonpointer>=1.9 in c:\\users\\lenovo\\genaicoding\\venv\\lib\\site-packages (from jsonpatch<2.0,>=1.33->langchain-core<1.0.0,>=0.3.74->langchain-openai->-r requirements.txt (line 1)) (3.0.0)\n",
      "Requirement already satisfied: annotated-types>=0.6.0 in c:\\users\\lenovo\\genaicoding\\venv\\lib\\site-packages (from pydantic<3,>=1.9.0->openai->-r requirements.txt (line 7)) (0.7.0)\n",
      "Requirement already satisfied: pydantic-core==2.33.2 in c:\\users\\lenovo\\genaicoding\\venv\\lib\\site-packages (from pydantic<3,>=1.9.0->openai->-r requirements.txt (line 7)) (2.33.2)\n",
      "Requirement already satisfied: typing-inspection>=0.4.0 in c:\\users\\lenovo\\genaicoding\\venv\\lib\\site-packages (from pydantic<3,>=1.9.0->openai->-r requirements.txt (line 7)) (0.4.1)\n",
      "Requirement already satisfied: regex>=2022.1.18 in c:\\users\\lenovo\\genaicoding\\venv\\lib\\site-packages (from tiktoken<1,>=0.7->langchain-openai->-r requirements.txt (line 1)) (2025.7.34)\n",
      "Requirement already satisfied: SQLAlchemy<3,>=1.4 in c:\\users\\lenovo\\genaicoding\\venv\\lib\\site-packages (from langchain_community->-r requirements.txt (line 2)) (2.0.43)\n",
      "Requirement already satisfied: aiohttp<4.0.0,>=3.8.3 in c:\\users\\lenovo\\genaicoding\\venv\\lib\\site-packages (from langchain_community->-r requirements.txt (line 2)) (3.12.15)\n",
      "Requirement already satisfied: dataclasses-json<0.7,>=0.5.7 in c:\\users\\lenovo\\genaicoding\\venv\\lib\\site-packages (from langchain_community->-r requirements.txt (line 2)) (0.6.7)\n",
      "Requirement already satisfied: pydantic-settings<3.0.0,>=2.4.0 in c:\\users\\lenovo\\genaicoding\\venv\\lib\\site-packages (from langchain_community->-r requirements.txt (line 2)) (2.10.1)\n",
      "Requirement already satisfied: httpx-sse<1.0.0,>=0.4.0 in c:\\users\\lenovo\\genaicoding\\venv\\lib\\site-packages (from langchain_community->-r requirements.txt (line 2)) (0.4.1)\n",
      "Requirement already satisfied: numpy>=2.1.0 in c:\\users\\lenovo\\genaicoding\\venv\\lib\\site-packages (from langchain_community->-r requirements.txt (line 2)) (2.3.2)\n",
      "Requirement already satisfied: langchain-text-splitters<1.0.0,>=0.3.9 in c:\\users\\lenovo\\genaicoding\\venv\\lib\\site-packages (from langchain->-r requirements.txt (line 3)) (0.3.9)\n",
      "Requirement already satisfied: charset_normalizer<4,>=2 in c:\\users\\lenovo\\genaicoding\\venv\\lib\\site-packages (from requests->-r requirements.txt (line 8)) (3.4.3)\n",
      "Requirement already satisfied: urllib3<3,>=1.21.1 in c:\\users\\lenovo\\genaicoding\\venv\\lib\\site-packages (from requests->-r requirements.txt (line 8)) (2.5.0)\n",
      "Requirement already satisfied: aiohappyeyeballs>=2.5.0 in c:\\users\\lenovo\\genaicoding\\venv\\lib\\site-packages (from aiohttp<4.0.0,>=3.8.3->langchain_community->-r requirements.txt (line 2)) (2.6.1)\n",
      "Requirement already satisfied: aiosignal>=1.4.0 in c:\\users\\lenovo\\genaicoding\\venv\\lib\\site-packages (from aiohttp<4.0.0,>=3.8.3->langchain_community->-r requirements.txt (line 2)) (1.4.0)\n",
      "Requirement already satisfied: attrs>=17.3.0 in c:\\users\\lenovo\\genaicoding\\venv\\lib\\site-packages (from aiohttp<4.0.0,>=3.8.3->langchain_community->-r requirements.txt (line 2)) (25.3.0)\n",
      "Requirement already satisfied: frozenlist>=1.1.1 in c:\\users\\lenovo\\genaicoding\\venv\\lib\\site-packages (from aiohttp<4.0.0,>=3.8.3->langchain_community->-r requirements.txt (line 2)) (1.7.0)\n",
      "Requirement already satisfied: multidict<7.0,>=4.5 in c:\\users\\lenovo\\genaicoding\\venv\\lib\\site-packages (from aiohttp<4.0.0,>=3.8.3->langchain_community->-r requirements.txt (line 2)) (6.6.4)\n",
      "Requirement already satisfied: propcache>=0.2.0 in c:\\users\\lenovo\\genaicoding\\venv\\lib\\site-packages (from aiohttp<4.0.0,>=3.8.3->langchain_community->-r requirements.txt (line 2)) (0.3.2)\n",
      "Requirement already satisfied: yarl<2.0,>=1.17.0 in c:\\users\\lenovo\\genaicoding\\venv\\lib\\site-packages (from aiohttp<4.0.0,>=3.8.3->langchain_community->-r requirements.txt (line 2)) (1.20.1)\n",
      "Requirement already satisfied: marshmallow<4.0.0,>=3.18.0 in c:\\users\\lenovo\\genaicoding\\venv\\lib\\site-packages (from dataclasses-json<0.7,>=0.5.7->langchain_community->-r requirements.txt (line 2)) (3.26.1)\n",
      "Requirement already satisfied: typing-inspect<1,>=0.4.0 in c:\\users\\lenovo\\genaicoding\\venv\\lib\\site-packages (from dataclasses-json<0.7,>=0.5.7->langchain_community->-r requirements.txt (line 2)) (0.9.0)\n",
      "Requirement already satisfied: greenlet>=1 in c:\\users\\lenovo\\genaicoding\\venv\\lib\\site-packages (from SQLAlchemy<3,>=1.4->langchain_community->-r requirements.txt (line 2)) (3.2.4)\n",
      "Requirement already satisfied: mypy-extensions>=0.3.0 in c:\\users\\lenovo\\genaicoding\\venv\\lib\\site-packages (from typing-inspect<1,>=0.4.0->dataclasses-json<0.7,>=0.5.7->langchain_community->-r requirements.txt (line 2)) (1.1.0)\n",
      "Requirement already satisfied: PyJWT<3.0.0,>=2.0.0 in c:\\users\\lenovo\\genaicoding\\venv\\lib\\site-packages (from twilio->-r requirements.txt (line 9)) (2.10.1)\n",
      "Requirement already satisfied: aiohttp-retry>=2.8.3 in c:\\users\\lenovo\\genaicoding\\venv\\lib\\site-packages (from twilio->-r requirements.txt (line 9)) (2.9.1)\n",
      "Requirement already satisfied: xmltodict in c:\\users\\lenovo\\genaicoding\\venv\\lib\\site-packages (from wolframalpha->-r requirements.txt (line 11)) (0.14.2)\n",
      "Requirement already satisfied: more-itertools in c:\\users\\lenovo\\genaicoding\\venv\\lib\\site-packages (from wolframalpha->-r requirements.txt (line 11)) (10.7.0)\n",
      "Requirement already satisfied: jaraco.context in c:\\users\\lenovo\\genaicoding\\venv\\lib\\site-packages (from wolframalpha->-r requirements.txt (line 11)) (6.0.1)\n",
      "Requirement already satisfied: authlib>=1.5.2 in c:\\users\\lenovo\\genaicoding\\venv\\lib\\site-packages (from fastmcp->-r requirements.txt (line 12)) (1.6.1)\n",
      "Requirement already satisfied: cyclopts>=3.0.0 in c:\\users\\lenovo\\genaicoding\\venv\\lib\\site-packages (from fastmcp->-r requirements.txt (line 12)) (3.22.5)\n",
      "Requirement already satisfied: exceptiongroup>=1.2.2 in c:\\users\\lenovo\\genaicoding\\venv\\lib\\site-packages (from fastmcp->-r requirements.txt (line 12)) (1.3.0)\n",
      "Requirement already satisfied: mcp<2.0.0,>=1.12.4 in c:\\users\\lenovo\\genaicoding\\venv\\lib\\site-packages (from fastmcp->-r requirements.txt (line 12)) (1.13.1)\n",
      "Requirement already satisfied: openapi-core>=0.19.5 in c:\\users\\lenovo\\genaicoding\\venv\\lib\\site-packages (from fastmcp->-r requirements.txt (line 12)) (0.19.5)\n",
      "Requirement already satisfied: openapi-pydantic>=0.5.1 in c:\\users\\lenovo\\genaicoding\\venv\\lib\\site-packages (from fastmcp->-r requirements.txt (line 12)) (0.5.1)\n",
      "Requirement already satisfied: pyperclip>=1.9.0 in c:\\users\\lenovo\\genaicoding\\venv\\lib\\site-packages (from fastmcp->-r requirements.txt (line 12)) (1.9.0)\n",
      "Requirement already satisfied: rich>=13.9.4 in c:\\users\\lenovo\\genaicoding\\venv\\lib\\site-packages (from fastmcp->-r requirements.txt (line 12)) (14.1.0)\n",
      "Requirement already satisfied: jsonschema>=4.20.0 in c:\\users\\lenovo\\genaicoding\\venv\\lib\\site-packages (from mcp<2.0.0,>=1.12.4->fastmcp->-r requirements.txt (line 12)) (4.25.1)\n",
      "Requirement already satisfied: python-multipart>=0.0.9 in c:\\users\\lenovo\\genaicoding\\venv\\lib\\site-packages (from mcp<2.0.0,>=1.12.4->fastmcp->-r requirements.txt (line 12)) (0.0.20)\n",
      "Requirement already satisfied: pywin32>=310 in c:\\users\\lenovo\\genaicoding\\venv\\lib\\site-packages (from mcp<2.0.0,>=1.12.4->fastmcp->-r requirements.txt (line 12)) (311)\n",
      "Requirement already satisfied: sse-starlette>=1.6.1 in c:\\users\\lenovo\\genaicoding\\venv\\lib\\site-packages (from mcp<2.0.0,>=1.12.4->fastmcp->-r requirements.txt (line 12)) (3.0.2)\n",
      "Requirement already satisfied: starlette>=0.27 in c:\\users\\lenovo\\genaicoding\\venv\\lib\\site-packages (from mcp<2.0.0,>=1.12.4->fastmcp->-r requirements.txt (line 12)) (0.47.2)\n",
      "Requirement already satisfied: uvicorn>=0.31.1 in c:\\users\\lenovo\\genaicoding\\venv\\lib\\site-packages (from mcp<2.0.0,>=1.12.4->fastmcp->-r requirements.txt (line 12)) (0.35.0)\n",
      "Requirement already satisfied: cryptography in c:\\users\\lenovo\\genaicoding\\venv\\lib\\site-packages (from authlib>=1.5.2->fastmcp->-r requirements.txt (line 12)) (45.0.6)\n",
      "Requirement already satisfied: docstring-parser>=0.15 in c:\\users\\lenovo\\genaicoding\\venv\\lib\\site-packages (from cyclopts>=3.0.0->fastmcp->-r requirements.txt (line 12)) (0.17.0)\n",
      "Requirement already satisfied: rich-rst<2.0.0,>=1.3.1 in c:\\users\\lenovo\\genaicoding\\venv\\lib\\site-packages (from cyclopts>=3.0.0->fastmcp->-r requirements.txt (line 12)) (1.3.1)\n",
      "Requirement already satisfied: docutils in c:\\users\\lenovo\\genaicoding\\venv\\lib\\site-packages (from rich-rst<2.0.0,>=1.3.1->cyclopts>=3.0.0->fastmcp->-r requirements.txt (line 12)) (0.22)\n",
      "Requirement already satisfied: jsonschema-specifications>=2023.03.6 in c:\\users\\lenovo\\genaicoding\\venv\\lib\\site-packages (from jsonschema>=4.20.0->mcp<2.0.0,>=1.12.4->fastmcp->-r requirements.txt (line 12)) (2025.4.1)\n",
      "Requirement already satisfied: referencing>=0.28.4 in c:\\users\\lenovo\\genaicoding\\venv\\lib\\site-packages (from jsonschema>=4.20.0->mcp<2.0.0,>=1.12.4->fastmcp->-r requirements.txt (line 12)) (0.36.2)\n",
      "Requirement already satisfied: rpds-py>=0.7.1 in c:\\users\\lenovo\\genaicoding\\venv\\lib\\site-packages (from jsonschema>=4.20.0->mcp<2.0.0,>=1.12.4->fastmcp->-r requirements.txt (line 12)) (0.27.0)\n",
      "Requirement already satisfied: orjson>=3.9.14 in c:\\users\\lenovo\\genaicoding\\venv\\lib\\site-packages (from langsmith>=0.3.45->langchain-core<1.0.0,>=0.3.74->langchain-openai->-r requirements.txt (line 1)) (3.11.2)\n",
      "Requirement already satisfied: requests-toolbelt>=1.0.0 in c:\\users\\lenovo\\genaicoding\\venv\\lib\\site-packages (from langsmith>=0.3.45->langchain-core<1.0.0,>=0.3.74->langchain-openai->-r requirements.txt (line 1)) (1.0.0)\n",
      "Requirement already satisfied: zstandard>=0.23.0 in c:\\users\\lenovo\\genaicoding\\venv\\lib\\site-packages (from langsmith>=0.3.45->langchain-core<1.0.0,>=0.3.74->langchain-openai->-r requirements.txt (line 1)) (0.24.0)\n",
      "Requirement already satisfied: isodate in c:\\users\\lenovo\\genaicoding\\venv\\lib\\site-packages (from openapi-core>=0.19.5->fastmcp->-r requirements.txt (line 12)) (0.7.2)\n",
      "Requirement already satisfied: jsonschema-path<0.4.0,>=0.3.1 in c:\\users\\lenovo\\genaicoding\\venv\\lib\\site-packages (from openapi-core>=0.19.5->fastmcp->-r requirements.txt (line 12)) (0.3.4)\n",
      "Requirement already satisfied: openapi-schema-validator<0.7.0,>=0.6.0 in c:\\users\\lenovo\\genaicoding\\venv\\lib\\site-packages (from openapi-core>=0.19.5->fastmcp->-r requirements.txt (line 12)) (0.6.3)\n",
      "Requirement already satisfied: openapi-spec-validator<0.8.0,>=0.7.1 in c:\\users\\lenovo\\genaicoding\\venv\\lib\\site-packages (from openapi-core>=0.19.5->fastmcp->-r requirements.txt (line 12)) (0.7.2)\n",
      "Requirement already satisfied: parse in c:\\users\\lenovo\\genaicoding\\venv\\lib\\site-packages (from openapi-core>=0.19.5->fastmcp->-r requirements.txt (line 12)) (1.20.2)\n",
      "Requirement already satisfied: werkzeug<3.1.2 in c:\\users\\lenovo\\genaicoding\\venv\\lib\\site-packages (from openapi-core>=0.19.5->fastmcp->-r requirements.txt (line 12)) (3.1.1)\n",
      "Requirement already satisfied: pathable<0.5.0,>=0.4.1 in c:\\users\\lenovo\\genaicoding\\venv\\lib\\site-packages (from jsonschema-path<0.4.0,>=0.3.1->openapi-core>=0.19.5->fastmcp->-r requirements.txt (line 12)) (0.4.4)\n",
      "Requirement already satisfied: rfc3339-validator in c:\\users\\lenovo\\genaicoding\\venv\\lib\\site-packages (from openapi-schema-validator<0.7.0,>=0.6.0->openapi-core>=0.19.5->fastmcp->-r requirements.txt (line 12)) (0.1.4)\n",
      "Requirement already satisfied: lazy-object-proxy<2.0.0,>=1.7.1 in c:\\users\\lenovo\\genaicoding\\venv\\lib\\site-packages (from openapi-spec-validator<0.8.0,>=0.7.1->openapi-core>=0.19.5->fastmcp->-r requirements.txt (line 12)) (1.11.0)\n",
      "Requirement already satisfied: MarkupSafe>=2.1.1 in c:\\users\\lenovo\\genaicoding\\venv\\lib\\site-packages (from werkzeug<3.1.2->openapi-core>=0.19.5->fastmcp->-r requirements.txt (line 12)) (3.0.2)\n",
      "Requirement already satisfied: email-validator>=2.0.0 in c:\\users\\lenovo\\genaicoding\\venv\\lib\\site-packages (from pydantic[email]>=2.11.7->fastmcp->-r requirements.txt (line 12)) (2.2.0)\n",
      "Requirement already satisfied: dnspython>=2.0.0 in c:\\users\\lenovo\\genaicoding\\venv\\lib\\site-packages (from email-validator>=2.0.0->pydantic[email]>=2.11.7->fastmcp->-r requirements.txt (line 12)) (2.7.0)\n",
      "Requirement already satisfied: markdown-it-py>=2.2.0 in c:\\users\\lenovo\\genaicoding\\venv\\lib\\site-packages (from rich>=13.9.4->fastmcp->-r requirements.txt (line 12)) (4.0.0)\n",
      "Requirement already satisfied: pygments<3.0.0,>=2.13.0 in c:\\users\\lenovo\\genaicoding\\venv\\lib\\site-packages (from rich>=13.9.4->fastmcp->-r requirements.txt (line 12)) (2.19.2)\n",
      "Requirement already satisfied: mdurl~=0.1 in c:\\users\\lenovo\\genaicoding\\venv\\lib\\site-packages (from markdown-it-py>=2.2.0->rich>=13.9.4->fastmcp->-r requirements.txt (line 12)) (0.1.2)\n",
      "Requirement already satisfied: colorama in c:\\users\\lenovo\\genaicoding\\venv\\lib\\site-packages (from tqdm>4->openai->-r requirements.txt (line 7)) (0.4.6)\n",
      "Requirement already satisfied: click>=7.0 in c:\\users\\lenovo\\genaicoding\\venv\\lib\\site-packages (from uvicorn>=0.31.1->mcp<2.0.0,>=1.12.4->fastmcp->-r requirements.txt (line 12)) (8.2.1)\n",
      "Requirement already satisfied: cffi>=1.14 in c:\\users\\lenovo\\genaicoding\\venv\\lib\\site-packages (from cryptography->authlib>=1.5.2->fastmcp->-r requirements.txt (line 12)) (1.17.1)\n",
      "Requirement already satisfied: pycparser in c:\\users\\lenovo\\genaicoding\\venv\\lib\\site-packages (from cffi>=1.14->cryptography->authlib>=1.5.2->fastmcp->-r requirements.txt (line 12)) (2.22)\n",
      "Requirement already satisfied: six in c:\\users\\lenovo\\genaicoding\\venv\\lib\\site-packages (from rfc3339-validator->openapi-schema-validator<0.7.0,>=0.6.0->openapi-core>=0.19.5->fastmcp->-r requirements.txt (line 12)) (1.17.0)\n",
      "Note: you may need to restart the kernel to use updated packages.\n"
     ]
    }
   ],
   "source": [
    "# Install required packages\n",
    "%pip install -r requirements.txt"
   ]
  },
  {
   "cell_type": "markdown",
   "id": "ccba0b73",
   "metadata": {},
   "source": [
    "# Import Libraries\n",
    "We need to import the following libraries:\n",
    "- `os`: For accessing environment variables\n",
    "- `load_dotenv` from `dotenv`: To load variables from a `.env` file\n",
    "- `OpenAI` from `langchain_openai`: To interact with OpenAI models using LangChain"
   ]
  },
  {
   "cell_type": "code",
   "execution_count": 3,
   "id": "c9702a2a",
   "metadata": {},
   "outputs": [],
   "source": [
    "import os\n",
    "from dotenv import load_dotenv\n",
    "from langchain_openai import OpenAI"
   ]
  },
  {
   "cell_type": "markdown",
   "id": "5b6d4528",
   "metadata": {},
   "source": [
    "# Load Environment Variables\n",
    "Environment variables are used to securely store sensitive information like API keys. We use `load_dotenv()` to load these variables from a `.env` file."
   ]
  },
  {
   "cell_type": "code",
   "execution_count": 4,
   "id": "929e0281",
   "metadata": {},
   "outputs": [
    {
     "data": {
      "text/plain": [
       "True"
      ]
     },
     "execution_count": 4,
     "metadata": {},
     "output_type": "execute_result"
    }
   ],
   "source": [
    "# Load environment variables from .env file\n",
    "load_dotenv()"
   ]
  },
  {
   "cell_type": "markdown",
   "id": "647fd702",
   "metadata": {},
   "source": [
    "# Retrieve OpenAI API Key\n",
    "We retrieve the OpenAI API key from the environment using `os.getenv()`. This keeps your credentials secure and out of your codebase."
   ]
  },
  {
   "cell_type": "code",
   "execution_count": 5,
   "id": "bd2931c6",
   "metadata": {},
   "outputs": [],
   "source": [
    "# Get OpenAI API key from environment\n",
    "openai_api_key = os.getenv(\"OPENAI_API_KEY\")"
   ]
  },
  {
   "cell_type": "markdown",
   "id": "02e1c1af",
   "metadata": {},
   "source": [
    "# Initialize the Language Model\n",
    "We create an instance of the OpenAI language model using the API key. This object allows us to interact with OpenAI's LLMs through LangChain."
   ]
  },
  {
   "cell_type": "code",
   "execution_count": 6,
   "id": "ce9cb242",
   "metadata": {},
   "outputs": [],
   "source": [
    "# Initialize the LLM\n",
    "llm = OpenAI(api_key=openai_api_key)"
   ]
  },
  {
   "cell_type": "markdown",
   "id": "313f9384",
   "metadata": {},
   "source": [
    "# Create a Prompt\n",
    "A prompt is a question or instruction you send to the language model. Good prompt engineering helps get accurate and relevant responses."
   ]
  },
  {
   "cell_type": "code",
   "execution_count": 7,
   "id": "46da2c58",
   "metadata": {},
   "outputs": [],
   "source": [
    "# Basic prompt\n",
    "prompt = \"What is the capital of France?\""
   ]
  },
  {
   "cell_type": "markdown",
   "id": "4a046f9b",
   "metadata": {},
   "source": [
    "# Invoke the Language Model\n",
    "We use the `invoke()` method to send the prompt to the language model and get a response. The model processes the prompt and generates an answer."
   ]
  },
  {
   "cell_type": "code",
   "execution_count": 8,
   "id": "06a74d37",
   "metadata": {},
   "outputs": [],
   "source": [
    "# Invoke the LLM using the new invoke method\n",
    "response = llm.invoke(prompt)"
   ]
  },
  {
   "cell_type": "markdown",
   "id": "378032bc",
   "metadata": {},
   "source": [
    "# Display the Response\n",
    "The response from the language model is printed below. You can interpret this output as the model's answer to your prompt."
   ]
  },
  {
   "cell_type": "code",
   "execution_count": 9,
   "id": "5034309f",
   "metadata": {},
   "outputs": [
    {
     "name": "stdout",
     "output_type": "stream",
     "text": [
      "Response: \n",
      "\n",
      "The capital of France is Paris. \n"
     ]
    }
   ],
   "source": [
    "# Print the response\n",
    "print(\"Response:\", response)"
   ]
  },
  {
   "cell_type": "markdown",
   "id": "0c4d13e4",
   "metadata": {},
   "source": [
    "---\n",
    "\n",
    "<table><tr>\n",
    "<td><img src=\"images/robo2.png\" alt=\"Robo2 the AI Cheerleader\" width=\"150\" style=\"float:right; margin-left:20px;\" /></td>\n",
    "<td style=\"vertical-align:top; padding-left:20px;\">\n",
    "<i>\"Congratulations, human! You survived the lab and your code didn't explode!\"</i><br>\n",
    "<i>You're now officially smarter than my last firmware update. 🎉🤖</i>\n",
    "</td>\n",
    "</tr></table>\n",
    "\n",
    "*Thanks for completing the LangChain + OpenAI lab!*"
   ]
  }
 ],
 "metadata": {
  "kernelspec": {
   "display_name": "venv",
   "language": "python",
   "name": "python3"
  },
  "language_info": {
   "codemirror_mode": {
    "name": "ipython",
    "version": 3
   },
   "file_extension": ".py",
   "mimetype": "text/x-python",
   "name": "python",
   "nbconvert_exporter": "python",
   "pygments_lexer": "ipython3",
   "version": "3.13.7"
  }
 },
 "nbformat": 4,
 "nbformat_minor": 5
}
