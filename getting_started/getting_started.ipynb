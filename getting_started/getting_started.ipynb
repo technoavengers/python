{
 "cells": [
  {
   "cell_type": "markdown",
   "id": "fcc1c3d6",
   "metadata": {},
   "source": [
    "# Introduction to Getting Started with Python for AI\n",
    "\n",
    "Python is a versatile and beginner-friendly programming language widely used in artificial intelligence (AI) and machine learning (ML). Its simple syntax, extensive libraries, and active community make it an ideal choice for developing AI applications. In this section, you'll learn the basics of Python and how to set up your environment to start building AI projects."
   ]
  },
  {
   "cell_type": "markdown",
   "id": "a11048e0",
   "metadata": {},
   "source": [
    "## Best Way to Set Up a Python Environment\n",
    "\n",
    "Setting up a Python environment properly is crucial for efficient and reproducible AI development. Here are the recommended steps:\n",
    "\n",
    "1. **Use Virtual Environments**  \n",
    "    Create isolated environments for each project to manage dependencies and avoid conflicts:\n",
    "    - With `venv` (built-in):  \n",
    "      ```bash\n",
    "      python -m venv myenv\n",
    "\n",
    "      # On Linux:  \n",
    "      source myenv/bin/activate\n",
    "      \n",
    "      # On Windows:  \n",
    "      myenv\\Scripts\\activate\n",
    "      ```\n",
    "  "
   ]
  },
  {
   "cell_type": "markdown",
   "id": "9fb5717b",
   "metadata": {},
   "source": [
    "### Install Required Packages "
   ]
  },
  {
   "cell_type": "code",
   "execution_count": null,
   "id": "4fd06ddb",
   "metadata": {},
   "outputs": [],
   "source": [
    "  %pip install -r requirement.txt"
   ]
  },
  {
   "cell_type": "markdown",
   "id": "dba4a000",
   "metadata": {},
   "source": [
    "### List Packages"
   ]
  },
  {
   "cell_type": "code",
   "execution_count": 1,
   "id": "24d20268",
   "metadata": {},
   "outputs": [
    {
     "name": "stdout",
     "output_type": "stream",
     "text": [
      "Package                 Version\n",
      "----------------------- -----------\n",
      "annotated-types         0.7.0\n",
      "anyio                   4.11.0\n",
      "asttokens               3.0.0\n",
      "asyncio                 4.0.0\n",
      "certifi                 2025.8.3\n",
      "click                   8.3.0\n",
      "colorama                0.4.6\n",
      "comm                    0.2.3\n",
      "debugpy                 1.8.17\n",
      "decorator               5.2.1\n",
      "executing               2.2.1\n",
      "fastapi                 0.117.1\n",
      "h11                     0.16.0\n",
      "httpcore                1.0.9\n",
      "httpx                   0.28.1\n",
      "idna                    3.10\n",
      "ipykernel               6.30.1\n",
      "ipython                 9.5.0\n",
      "ipython_pygments_lexers 1.1.1\n",
      "jedi                    0.19.2\n",
      "jupyter_client          8.6.3\n",
      "jupyter_core            5.8.1\n",
      "matplotlib-inline       0.1.7\n",
      "nest-asyncio            1.6.0\n",
      "numpy                   2.3.3\n",
      "packaging               25.0\n",
      "pandas                  2.3.2\n",
      "parso                   0.8.5\n",
      "pip                     25.2\n",
      "platformdirs            4.4.0\n",
      "prompt_toolkit          3.0.52\n",
      "psutil                  7.1.0\n",
      "pure_eval               0.2.3\n",
      "pydantic                2.11.9\n",
      "pydantic_core           2.33.2\n",
      "Pygments                2.19.2\n",
      "python-dateutil         2.9.0.post0\n",
      "python-dotenv           1.1.1\n",
      "pytz                    2025.2\n",
      "pywin32                 311\n",
      "pyzmq                   27.1.0\n",
      "six                     1.17.0\n",
      "sniffio                 1.3.1\n",
      "stack-data              0.6.3\n",
      "starlette               0.48.0\n",
      "tornado                 6.5.2\n",
      "traitlets               5.14.3\n",
      "typing_extensions       4.15.0\n",
      "typing-inspection       0.4.1\n",
      "tzdata                  2025.2\n",
      "uvicorn                 0.37.0\n",
      "wcwidth                 0.2.14\n",
      "Note: you may need to restart the kernel to use updated packages.\n"
     ]
    }
   ],
   "source": [
    "%pip list"
   ]
  },
  {
   "cell_type": "code",
   "execution_count": null,
   "id": "bbe231dd",
   "metadata": {},
   "outputs": [],
   "source": [
    "%pip freeze > requirements-new.txt"
   ]
  },
  {
   "cell_type": "markdown",
   "id": "d5364f06",
   "metadata": {},
   "source": [
    "## Loading Variables Using `python-dotenv`\n",
    "\n",
    "Environment variables are often used to store sensitive information like API keys or configuration settings outside your codebase. The `python-dotenv` library allows you to load these variables from a `.env` file into your Python environment easily.\n",
    "\n",
    "**Steps:**\n",
    "1. Create a `.env` file in your project directory:\n",
    "    ```\n",
    "    API_KEY=your_api_key_here\n",
    "    SECRET_KEY=your_secret_key_here\n",
    "    ```\n",
    "2. Use `python-dotenv` to load these variables in your Python script:\n",
    "\n",
    "This approach keeps your credentials secure and your codebase clean."
   ]
  },
  {
   "cell_type": "code",
   "execution_count": null,
   "id": "867a630e",
   "metadata": {},
   "outputs": [],
   "source": [
    "from dotenv import load_dotenv\n",
    "import os\n",
    "\n",
    "load_dotenv()  # Loads variables from .env into environment\n",
    "db_user = os.getenv(\"DB_USER\")\n",
    "db_pass = os.getenv(\"DB_PASS\")\n",
    "\n",
    "print(f\"Database User: {db_user}\")\n",
    "print(f\"Database Password: {db_pass}\")"
   ]
  },
  {
   "cell_type": "markdown",
   "id": "39de0561",
   "metadata": {},
   "source": [
    "## Data Types in Python\n",
    "\n",
    "Python supports various data types such as integers (`int`), floating-point numbers (`float`), strings (`str`), booleans (`bool`), lists, tuples, dictionaries, and more. Understanding these types is essential for effective programming and data manipulation."
   ]
  },
  {
   "cell_type": "code",
   "execution_count": 3,
   "id": "c8f25b7f",
   "metadata": {},
   "outputs": [
    {
     "name": "stdout",
     "output_type": "stream",
     "text": [
      "First product: Laptop\n",
      "Last product: Headphones\n",
      "Updated products list: ['Laptop', 'Smartwatch', 'Tablet', 'Headphones']\n"
     ]
    }
   ],
   "source": [
    "# Create a list of products\n",
    "products = ['Laptop', 'Smartphone', 'Tablet', 'Headphones']\n",
    "\n",
    "# Access elements in the list\n",
    "first_product = products[0]\n",
    "last_product = products[-1]\n",
    "\n",
    "print(\"First product:\", first_product)\n",
    "print(\"Last product:\", last_product)\n",
    "\n",
    "# Change the second product in the list\n",
    "products[1] = 'Smartwatch'\n",
    "print(\"Updated products list:\", products)"
   ]
  },
  {
   "cell_type": "code",
   "execution_count": 7,
   "id": "6334f1b6",
   "metadata": {},
   "outputs": [
    {
     "name": "stdout",
     "output_type": "stream",
     "text": [
      "LAPTOP\n",
      "SMARTWATCH\n",
      "TABLET\n",
      "HEADPHONES\n"
     ]
    }
   ],
   "source": [
    "# Iterate through the list and print each product\n",
    "for x in products:\n",
    "    print(x.upper())"
   ]
  },
  {
   "cell_type": "code",
   "execution_count": 4,
   "id": "fa3c03fa",
   "metadata": {},
   "outputs": [
    {
     "name": "stdout",
     "output_type": "stream",
     "text": [
      "Number of products: 4\n"
     ]
    }
   ],
   "source": [
    "\n",
    "print(\"Number of products:\", len(products))"
   ]
  },
  {
   "cell_type": "code",
   "execution_count": null,
   "id": "cc9e9976",
   "metadata": {},
   "outputs": [],
   "source": [
    "print(\"Products in uppercase:\", [product.upper() for product in products])\n"
   ]
  },
  {
   "cell_type": "code",
   "execution_count": 8,
   "id": "e31ef6fb",
   "metadata": {},
   "outputs": [
    {
     "name": "stdout",
     "output_type": "stream",
     "text": [
      "Is 'Tablet' in products? True\n"
     ]
    }
   ],
   "source": [
    "print(\"Is 'Tablet' in products?\", 'Tablet' in products)\n"
   ]
  },
  {
   "cell_type": "code",
   "execution_count": 9,
   "id": "50984261",
   "metadata": {},
   "outputs": [
    {
     "name": "stdout",
     "output_type": "stream",
     "text": [
      "Sorted products: ['Headphones', 'Laptop', 'Smartwatch', 'Tablet']\n"
     ]
    }
   ],
   "source": [
    "print(\"Sorted products:\", sorted(products))"
   ]
  },
  {
   "cell_type": "markdown",
   "id": "07e2e544",
   "metadata": {},
   "source": [
    "## What is a Tuple? How is it Different from a List?\n",
    "\n",
    "A **tuple** is an ordered, immutable collection of items in Python. Tuples are defined using parentheses `()` and can store elements of different data types.\n",
    "\n",
    "**Example:**\n",
    "```python\n",
    "my_tuple = (1, \"apple\", 3.14)\n",
    "```\n",
    "\n",
    "### Key Differences Between Tuple and List\n",
    "\n",
    "| Feature         | List                          | Tuple                        |\n",
    "|-----------------|------------------------------|------------------------------|\n",
    "| Syntax          | Square brackets `[]`          | Parentheses `()`             |\n",
    "| Mutability      | Mutable (can be changed)      | Immutable (cannot be changed)|\n",
    "| Methods         | Many built-in methods         | Fewer built-in methods       |\n",
    "| Use Case        | When data may change          | When data should not change  |\n",
    "\n",
    "\n",
    "Tuples are often used for data that should remain constant throughout the program. Lists are used when you need to modify, add, or remove elements."
   ]
  },
  {
   "cell_type": "code",
   "execution_count": null,
   "id": "11a869bd",
   "metadata": {},
   "outputs": [
    {
     "name": "stdout",
     "output_type": "stream",
     "text": [
      "First product price: 1200\n",
      "Last product price: 150\n"
     ]
    }
   ],
   "source": [
    "# Create a tuple of product prices\n",
    "product_prices = (1200, 800, 400, 150)\n",
    "\n",
    "# Access elements in the tuple\n",
    "first_price = product_prices[0]\n",
    "last_price = product_prices[-1]\n",
    "\n",
    "print(\"First product price:\", first_price)\n",
    "print(\"Last product price:\", last_price)"
   ]
  },
  {
   "cell_type": "markdown",
   "id": "d81599da",
   "metadata": {},
   "source": [
    "#### Iterate over Tuples"
   ]
  },
  {
   "cell_type": "code",
   "execution_count": 11,
   "id": "c89d32c4",
   "metadata": {},
   "outputs": [
    {
     "name": "stdout",
     "output_type": "stream",
     "text": [
      "Laptop\n",
      "Smartwatch\n",
      "Tablet\n",
      "Headphones\n"
     ]
    }
   ],
   "source": [
    "for item in products:\n",
    "    print(item)"
   ]
  },
  {
   "cell_type": "markdown",
   "id": "30642304",
   "metadata": {},
   "source": [
    "#### Check number of items"
   ]
  },
  {
   "cell_type": "code",
   "execution_count": 12,
   "id": "8291bc3c",
   "metadata": {},
   "outputs": [
    {
     "name": "stdout",
     "output_type": "stream",
     "text": [
      "Number of product prices: 4\n"
     ]
    }
   ],
   "source": [
    "print(\"Number of product prices:\", len(product_prices))"
   ]
  },
  {
   "cell_type": "markdown",
   "id": "6fda4e25",
   "metadata": {},
   "source": [
    "#### Get Max "
   ]
  },
  {
   "cell_type": "code",
   "execution_count": 13,
   "id": "b7844a0a",
   "metadata": {},
   "outputs": [
    {
     "name": "stdout",
     "output_type": "stream",
     "text": [
      "Maximum price: 1200\n"
     ]
    }
   ],
   "source": [
    "print(\"Maximum price:\", max(product_prices))"
   ]
  },
  {
   "cell_type": "markdown",
   "id": "1d04689b",
   "metadata": {},
   "source": [
    "#### Total"
   ]
  },
  {
   "cell_type": "code",
   "execution_count": 14,
   "id": "adbe901b",
   "metadata": {},
   "outputs": [
    {
     "name": "stdout",
     "output_type": "stream",
     "text": [
      "Sum of all prices: 2550\n"
     ]
    }
   ],
   "source": [
    "print(\"Sum of all prices:\", sum(product_prices))"
   ]
  },
  {
   "cell_type": "code",
   "execution_count": 15,
   "id": "8a40f1ae",
   "metadata": {},
   "outputs": [
    {
     "ename": "TypeError",
     "evalue": "'tuple' object does not support item assignment",
     "output_type": "error",
     "traceback": [
      "\u001b[31m---------------------------------------------------------------------------\u001b[39m",
      "\u001b[31mTypeError\u001b[39m                                 Traceback (most recent call last)",
      "\u001b[36mCell\u001b[39m\u001b[36m \u001b[39m\u001b[32mIn[15]\u001b[39m\u001b[32m, line 2\u001b[39m\n\u001b[32m      1\u001b[39m \u001b[38;5;66;03m# This will raise a TypeError because tuples are immutable\u001b[39;00m\n\u001b[32m----> \u001b[39m\u001b[32m2\u001b[39m \u001b[43mproduct_prices\u001b[49m\u001b[43m[\u001b[49m\u001b[32;43m0\u001b[39;49m\u001b[43m]\u001b[49m = \u001b[32m1000\u001b[39m\n",
      "\u001b[31mTypeError\u001b[39m: 'tuple' object does not support item assignment"
     ]
    }
   ],
   "source": [
    "# This will raise a TypeError because tuples are immutable\n",
    "product_prices[0] = 1000"
   ]
  },
  {
   "cell_type": "markdown",
   "id": "0224b137",
   "metadata": {},
   "source": [
    "## Dictionaries in Python\n",
    "\n",
    "A **dictionary** is an unordered, mutable collection of key-value pairs in Python. Keys must be unique and immutable, while values can be of any type.\n",
    "\n",
    "**Syntax Example:**\n",
    "```python\n",
    "my_dict = {\"name\": \"Alice\", \"age\": 25, \"city\": \"New York\"}\n",
    "```\n",
    "\n",
    "\n",
    "Dictionaries are useful for fast lookups and organizing data by unique keys."
   ]
  },
  {
   "cell_type": "code",
   "execution_count": 16,
   "id": "8e22720b",
   "metadata": {},
   "outputs": [],
   "source": [
    "# Create a dictionary of product stock\n",
    "product_stock = {\n",
    "    'Laptop': 10,\n",
    "    'Smartphone': 25,\n",
    "    'Tablet': 15,\n",
    "    'Headphones': 30\n",
    "}"
   ]
  },
  {
   "cell_type": "code",
   "execution_count": 17,
   "id": "786fee59",
   "metadata": {},
   "outputs": [
    {
     "name": "stdout",
     "output_type": "stream",
     "text": [
      "Stock of Laptop: 10\n"
     ]
    }
   ],
   "source": [
    "# Accessing elements\n",
    "laptop_stock = product_stock['Laptop']\n",
    "print(\"Stock of Laptop:\", laptop_stock)"
   ]
  },
  {
   "cell_type": "code",
   "execution_count": 19,
   "id": "09215f01",
   "metadata": {},
   "outputs": [
    {
     "name": "stdout",
     "output_type": "stream",
     "text": [
      "Updated stock of Tablet: 20\n",
      "All product stock: {'Laptop': 10, 'Smartphone': 25, 'Tablet': 20, 'Headphones': 30}\n"
     ]
    }
   ],
   "source": [
    "\n",
    "\n",
    "# Updating an element\n",
    "product_stock['Tablet'] = 20\n",
    "print(\"Updated stock of Tablet:\", product_stock['Tablet'])\n",
    "\n",
    "print(\"All product stock:\", product_stock)\n"
   ]
  },
  {
   "cell_type": "code",
   "execution_count": 20,
   "id": "c381b58c",
   "metadata": {},
   "outputs": [
    {
     "name": "stdout",
     "output_type": "stream",
     "text": [
      "Added Smartwatch: {'Laptop': 10, 'Smartphone': 25, 'Tablet': 20, 'Headphones': 30, 'Smartwatch': 12}\n"
     ]
    }
   ],
   "source": [
    "\n",
    "\n",
    "# Adding a new element\n",
    "product_stock['Smartwatch'] = 12\n",
    "print(\"Added Smartwatch:\", product_stock)\n"
   ]
  },
  {
   "cell_type": "code",
   "execution_count": 21,
   "id": "6014f040",
   "metadata": {},
   "outputs": [
    {
     "name": "stdout",
     "output_type": "stream",
     "text": [
      "Removed Headphones (stock was): 30\n",
      "Current product stock: {'Laptop': 10, 'Smartphone': 25, 'Tablet': 20, 'Smartwatch': 12}\n"
     ]
    }
   ],
   "source": [
    "\n",
    "\n",
    "# Removing an element\n",
    "removed_stock = product_stock.pop('Headphones')\n",
    "print(\"Removed Headphones (stock was):\", removed_stock)\n",
    "print(\"Current product stock:\", product_stock)"
   ]
  },
  {
   "cell_type": "markdown",
   "id": "471ca085",
   "metadata": {},
   "source": [
    "```markdown\n",
    "# String Manipulation in Python\n",
    "\n",
    "Strings are sequences of characters and are widely used in Python for storing and processing text data. Python provides many built-in methods for manipulating strings."
   ]
  },
  {
   "cell_type": "code",
   "execution_count": 22,
   "id": "705ba4e6",
   "metadata": {},
   "outputs": [
    {
     "name": "stdout",
     "output_type": "stream",
     "text": [
      "The price of Laptop is $1200\n"
     ]
    }
   ],
   "source": [
    "# Example of string formatting with f-strings\n",
    "product = 'Laptop'\n",
    "price = 1200\n",
    "formatted_string = f\"The price of {product} is ${price}\"\n",
    "print(formatted_string)"
   ]
  },
  {
   "cell_type": "code",
   "execution_count": 23,
   "id": "071d6a56",
   "metadata": {},
   "outputs": [
    {
     "name": "stdout",
     "output_type": "stream",
     "text": [
      "Stripped text: Python for AI is powerful!\n",
      "Lowercase: python for ai is powerful!\n",
      "Replaced word: Python for AI is amazing!\n"
     ]
    }
   ],
   "source": [
    "# More string manipulation examples\n",
    "\n",
    "sample_text = \"  Python for AI is powerful!  \"\n",
    "\n",
    "# Remove leading and trailing whitespace\n",
    "stripped_text = sample_text.strip()\n",
    "print(\"Stripped text:\", stripped_text)\n",
    "\n",
    "# Convert to lowercase\n",
    "lower_text = stripped_text.lower()\n",
    "print(\"Lowercase:\", lower_text)\n",
    "\n",
    "# Replace a word\n",
    "replaced_text = stripped_text.replace(\"powerful\", \"amazing\")\n",
    "print(\"Replaced word:\", replaced_text)"
   ]
  },
  {
   "cell_type": "code",
   "execution_count": 24,
   "id": "a378bf0a",
   "metadata": {},
   "outputs": [
    {
     "name": "stdout",
     "output_type": "stream",
     "text": [
      "Words: ['Python', 'for', 'AI', 'is', 'powerful!']\n",
      "Hyphen-joined: Python-for-AI-is-powerful!\n"
     ]
    }
   ],
   "source": [
    "# Split into words\n",
    "words = stripped_text.split()\n",
    "print(\"Words:\", words)\n",
    "\n",
    "# Join words with a hyphen\n",
    "hyphen_joined = \"-\".join(words)\n",
    "print(\"Hyphen-joined:\", hyphen_joined)"
   ]
  },
  {
   "cell_type": "markdown",
   "id": "a3b70b15",
   "metadata": {},
   "source": [
    "## Exception Handling in Python\n",
    "\n",
    "Exception handling allows you to manage errors gracefully and prevent your program from crashing unexpectedly. In Python, this is done using the `try`, `except`, `else`, and `finally` blocks.\n",
    "\n",
    "**Basic Syntax:**\n",
    "```python\n",
    "try:\n",
    "    # Code that might raise an exception\n",
    "    result = 10 / 0\n",
    "except ZeroDivisionError:\n",
    "    print(\"Cannot divide by zero!\")\n",
    "finally:\n",
    "    print(\"This block always executes.\")\n",
    "```\n",
    "\n",
    "- **try:** Code that may raise an exception.\n",
    "- **except:** Code to execute if an exception occurs.\n",
    "- **finally:** Code that always executes, regardless of exceptions.\n",
    "\n",
    "Exception handling is essential for building robust and user-friendly applications."
   ]
  },
  {
   "cell_type": "code",
   "execution_count": 25,
   "id": "37dd46d2",
   "metadata": {},
   "outputs": [
    {
     "name": "stdout",
     "output_type": "stream",
     "text": [
      "KeyError occurred: 'Camera'\n",
      "Exception handling demonstration complete.\n"
     ]
    }
   ],
   "source": [
    "try:\n",
    "    # Attempt to access a key that doesn't exist in the dictionary\n",
    "    stock = product_stock['Camera']\n",
    "except KeyError as e:\n",
    "    print(f\"KeyError occurred: {e}\")\n",
    "except Exception as e:\n",
    "    print(f\"An unexpected error occurred: {e}\")\n",
    "finally:\n",
    "    print(\"Exception handling demonstration complete.\")"
   ]
  }
 ],
 "metadata": {
  "kernelspec": {
   "display_name": "myenv1",
   "language": "python",
   "name": "python3"
  },
  "language_info": {
   "codemirror_mode": {
    "name": "ipython",
    "version": 3
   },
   "file_extension": ".py",
   "mimetype": "text/x-python",
   "name": "python",
   "nbconvert_exporter": "python",
   "pygments_lexer": "ipython3",
   "version": "3.13.7"
  }
 },
 "nbformat": 4,
 "nbformat_minor": 5
}
