{
 "cells": [
  {
   "cell_type": "markdown",
   "id": "4a8b4bac",
   "metadata": {},
   "source": [
    "## Functional Programming in Python\n",
    "\n",
    "Functional programming is a programming paradigm where computation is treated as the evaluation of mathematical functions, avoiding changing state and mutable data. Python supports functional programming features, allowing you to write concise and expressive code.\n",
    "\n",
    "### Key Concepts\n",
    "\n",
    "- **First-Class Functions:** Functions can be assigned to variables, passed as arguments, and returned from other functions.\n",
    "- **Immutability:** Prefer using immutable data structures (like tuples).\n",
    "- **Pure Functions:** Functions that do not have side effects and return the same output for the same input.\n",
    "- **Higher-Order Functions:** Functions that take other functions as arguments or return them.\n",
    "\n",
    "### Common Functional Tools in Python\n",
    "\n",
    "- `map(function, iterable)`: Applies a function to every item in an iterable.\n",
    "- `filter(function, iterable)`: Filters items in an iterable based on a function that returns `True` or `False`.\n",
    "- `reduce(function, iterable)`: Repeatedly applies a function to the items of an iterable, reducing it to a single value (requires `functools`).\n",
    "- `lambda`: Anonymous, inline functions.\n",
    "\n",
    "Functional programming can help make your code more modular, testable, and expressive."
   ]
  },
  {
   "cell_type": "code",
   "execution_count": 14,
   "id": "a5659f8c",
   "metadata": {},
   "outputs": [
    {
     "name": "stdout",
     "output_type": "stream",
     "text": [
      "Hello, Alice!\n"
     ]
    }
   ],
   "source": [
    "# Define a simple function\n",
    "def greet(name):\n",
    "    return f\"Hello, {name}!\"\n",
    "\n",
    "say_hello = greet\n",
    "\n",
    "# Pass 'greet' as an argument to another function\n",
    "print(say_hello(\"Alice\"))"
   ]
  },
  {
   "cell_type": "code",
   "execution_count": null,
   "id": "96006708",
   "metadata": {},
   "outputs": [
    {
     "name": "stdout",
     "output_type": "stream",
     "text": [
      "Hello, Bob!\n"
     ]
    }
   ],
   "source": [
    "def run_function(func, value):\n",
    "    return func(value)\n",
    "\n",
    "result = run_function(say_hello, \"Bob\")\n",
    "print(result)"
   ]
  },
  {
   "cell_type": "code",
   "execution_count": 18,
   "id": "ba015c36",
   "metadata": {},
   "outputs": [
    {
     "name": "stdout",
     "output_type": "stream",
     "text": [
      "20\n"
     ]
    }
   ],
   "source": [
    "# Example of a lambda function\n",
    "double = lambda x: x * 2\n",
    "\n",
    "print(double(10))  # Output: 10"
   ]
  },
  {
   "cell_type": "code",
   "execution_count": null,
   "id": "9b2ebf4a",
   "metadata": {},
   "outputs": [
    {
     "name": "stdout",
     "output_type": "stream",
     "text": [
      "6\n"
     ]
    }
   ],
   "source": [
    "# Higher-order function example: a function that takes another function as an argument\n",
    "def apply_func(func, func1, value):\n",
    "    return func(value)\n",
    "\n",
    "# Using 'double' lambda from above\n",
    "print(apply_func(double, greet, 3))"
   ]
  },
  {
   "cell_type": "code",
   "execution_count": null,
   "id": "a3306a69",
   "metadata": {},
   "outputs": [
    {
     "name": "stdout",
     "output_type": "stream",
     "text": [
      "['Hello, Alice!', 'Hello, Bob!', 'Hello, Charlie!']\n"
     ]
    }
   ],
   "source": [
    "# Using map to apply 'greet' to a list of names\n",
    "names = [\"Alice\", \"Bob\", \"Charlie\"]\n",
    "greetings = list(map(greet, names))\n",
    "print(greetings)"
   ]
  },
  {
   "cell_type": "code",
   "execution_count": 20,
   "id": "19fb8191",
   "metadata": {},
   "outputs": [
    {
     "name": "stdout",
     "output_type": "stream",
     "text": [
      "[200, 400, 600]\n"
     ]
    }
   ],
   "source": [
    "product_prices = [100, 200, 300]\n",
    "doubled_prices = map(lambda x: x * 2, product_prices)\n",
    "print(list(doubled_prices))"
   ]
  },
  {
   "cell_type": "code",
   "execution_count": 23,
   "id": "84f01d89",
   "metadata": {},
   "outputs": [
    {
     "name": "stdout",
     "output_type": "stream",
     "text": [
      "['Alice']\n"
     ]
    }
   ],
   "source": [
    "# Example: Use filter to select names that start with 'A'\n",
    "names_starting_with_a = list(filter(lambda name: name.startswith('A'), names))\n",
    "print(names_starting_with_a)"
   ]
  },
  {
   "cell_type": "code",
   "execution_count": 12,
   "id": "3c320c3f",
   "metadata": {},
   "outputs": [
    {
     "name": "stdout",
     "output_type": "stream",
     "text": [
      "15\n"
     ]
    }
   ],
   "source": [
    "numbers = [1, 2, 3, 4, 5]\n",
    "sum_numbers = reduce(lambda acc, x: acc + x, numbers)\n",
    "print(sum_numbers)\n"
   ]
  },
  {
   "cell_type": "code",
   "execution_count": null,
   "id": "97793c37",
   "metadata": {},
   "outputs": [
    {
     "name": "stdout",
     "output_type": "stream",
     "text": [
      "4.7\n"
     ]
    }
   ],
   "source": [
    "# Example: Use reduce to sum the prices in a dictionary of products\n",
    "products = {'apple': 1.5, 'banana': 2.0, 'orange': 1.2}\n",
    "print(products.values())\n",
    "total_price = reduce(lambda acc, price: acc + price, products.values())\n",
    "print(total_price)"
   ]
  }
 ],
 "metadata": {
  "kernelspec": {
   "display_name": "myenv",
   "language": "python",
   "name": "python3"
  },
  "language_info": {
   "codemirror_mode": {
    "name": "ipython",
    "version": 3
   },
   "file_extension": ".py",
   "mimetype": "text/x-python",
   "name": "python",
   "nbconvert_exporter": "python",
   "pygments_lexer": "ipython3",
   "version": "3.13.7"
  }
 },
 "nbformat": 4,
 "nbformat_minor": 5
}
