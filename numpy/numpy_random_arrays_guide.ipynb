{
 "cells": [
  {
   "cell_type": "markdown",
   "id": "161846bb",
   "metadata": {},
   "source": [
    "# Creating Random Arrays with NumPy\n",
    "\n",
    "This notebook demonstrates how to create random arrays using NumPy, including setting seeds for reproducibility and generating random integers."
   ]
  },
  {
   "cell_type": "markdown",
   "id": "c9b8ea2c",
   "metadata": {},
   "source": [
    "## 1. Import Required Libraries\n",
    "Import the necessary libraries, including NumPy."
   ]
  },
  {
   "cell_type": "code",
   "execution_count": null,
   "id": "daa29cab",
   "metadata": {},
   "outputs": [],
   "source": [
    "import numpy as np"
   ]
  },
  {
   "cell_type": "markdown",
   "id": "2797b179",
   "metadata": {},
   "source": [
    "## 2. Create Random Arrays\n",
    "Use NumPy to create random arrays of various shapes and sizes, including 1D, 2D, and 3D arrays."
   ]
  },
  {
   "cell_type": "code",
   "execution_count": null,
   "id": "3b43ff0c",
   "metadata": {},
   "outputs": [],
   "source": [
    "# 1D random array\n",
    "arr1d = np.random.rand(5)\n",
    "print(\"1D array:\", arr1d)\n",
    "\n",
    "# 2D random array\n",
    "arr2d = np.random.rand(3, 4)\n",
    "print(\"2D array:\\n\", arr2d)\n",
    "\n",
    "# 3D random array\n",
    "arr3d = np.random.rand(2, 3, 4)\n",
    "print(\"3D array:\\n\", arr3d)"
   ]
  },
  {
   "cell_type": "markdown",
   "id": "a508ba36",
   "metadata": {},
   "source": [
    "## 3. Seed the Random Number Generator\n",
    "Use the seed() function to seed the random number generator for reproducibility."
   ]
  },
  {
   "cell_type": "code",
   "execution_count": null,
   "id": "a7f65f4f",
   "metadata": {},
   "outputs": [],
   "source": [
    "np.random.seed(42)\n",
    "print(np.random.rand(3))  # This will always produce the same output when the seed is set"
   ]
  },
  {
   "cell_type": "markdown",
   "id": "2ad9cffb",
   "metadata": {},
   "source": [
    "## 4. Generate Random Integers\n",
    "Use the randint() function to generate random integers within a specified range."
   ]
  },
  {
   "cell_type": "code",
   "execution_count": null,
   "id": "bf80c151",
   "metadata": {},
   "outputs": [],
   "source": [
    "# Random integers between 0 and 9 (inclusive), shape (2, 5)\n",
    "rand_ints = np.random.randint(0, 10, (2, 5))\n",
    "print(rand_ints)"
   ]
  }
 ],
 "metadata": {
  "language_info": {
   "name": "python"
  }
 },
 "nbformat": 4,
 "nbformat_minor": 5
}
