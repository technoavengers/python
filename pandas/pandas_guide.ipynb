{
 "cells": [
  {
   "cell_type": "markdown",
   "id": "b294c7b5",
   "metadata": {},
   "source": [
    "# Pandas Tutorial: Data Analysis Made Simple\n",
    "\n",
    "Pandas is a powerful Python library for data manipulation and analysis. This guide will walk you through the fundamental concepts and features of Pandas, with practical examples.\n",
    "\n",
    "## What is Pandas?\n",
    "\n",
    "Pandas provides high-performance, easy-to-use data structures and tools for:\n",
    "- Data manipulation and cleaning\n",
    "- Data analysis\n",
    "- Time series functionality\n",
    "- Handling structured data\n",
    "- Reading/writing various file formats\n",
    "\n",
    "Key features include:\n",
    "- DataFrame and Series data structures\n",
    "- Efficient data manipulation\n",
    "- Built-in visualization\n",
    "- Time series functionality\n",
    "- Handling of missing data\n",
    "- Merging and joining datasets\n",
    "\n",
    "Let's start by setting up our environment and exploring basic Pandas functionality."
   ]
  },
  {
   "cell_type": "markdown",
   "id": "228196ae",
   "metadata": {},
   "source": [
    "## 1. Setting Up the Environment and Basic DataFrame Creation\n",
    "\n",
    "First, let's install and import the required libraries. We'll need:\n",
    "- `pandas`: For data manipulation and analysis\n",
    "\n",
    "Let's install these packages:"
   ]
  },
  {
   "cell_type": "code",
   "execution_count": null,
   "id": "1dec0459",
   "metadata": {},
   "outputs": [],
   "source": [
    "%pip install pandas"
   ]
  },
  {
   "cell_type": "code",
   "execution_count": 5,
   "id": "e17aa536",
   "metadata": {},
   "outputs": [
    {
     "name": "stdout",
     "output_type": "stream",
     "text": [
      "   transaction_id  customer_id     category\n",
      "0               1         2824  Electronics\n",
      "1               2         1409  Electronics\n",
      "2               3         5506  Electronics\n",
      "3               4         5012  Electronics\n",
      "4               5         4657  Electronics\n"
     ]
    }
   ],
   "source": [
    "import pandas as pd\n",
    "\n",
    "df = pd.read_csv('walmart.csv')\n",
    "print(df.head(5)[['transaction_id', 'customer_id','category']])\n"
   ]
  },
  {
   "cell_type": "code",
   "execution_count": null,
   "id": "d32d3d8e",
   "metadata": {},
   "outputs": [],
   "source": [
    "print(df.shape)"
   ]
  },
  {
   "cell_type": "markdown",
   "id": "d1dcaa74",
   "metadata": {},
   "source": [
    "## 2. Data Manipulation with Pandas\n",
    "\n",
    "Now let's explore various ways to manipulate data in Pandas. We'll cover:\n",
    "- Selecting columns\n",
    "- Adding new columns\n",
    "- Applying functions\n",
    "- Using loc/iloc indexers"
   ]
  },
  {
   "cell_type": "code",
   "execution_count": 6,
   "id": "4fe6ee4d",
   "metadata": {},
   "outputs": [
    {
     "name": "stdout",
     "output_type": "stream",
     "text": [
      "Selected columns:\n",
      "         product_name     category  unit_price\n",
      "0              Fridge  Electronics      188.46\n",
      "1                  TV  Electronics     1912.04\n",
      "2              Fridge  Electronics     1377.75\n",
      "3          Smartphone  Electronics      182.31\n",
      "4              Laptop  Electronics      499.28\n",
      "...               ...          ...         ...\n",
      "4995       Headphones   Appliances      682.15\n",
      "4996           Laptop   Appliances     1418.09\n",
      "4997           Fridge  Electronics      398.66\n",
      "4998           Laptop   Appliances     1000.95\n",
      "4999  Washing Machine   Appliances      710.03\n",
      "\n",
      "[5000 rows x 3 columns]\n"
     ]
    }
   ],
   "source": [
    "# Selecting specific columns\n",
    "print(\"Selected columns:\")\n",
    "print(df[['product_name', 'category', 'unit_price']])"
   ]
  },
  {
   "cell_type": "code",
   "execution_count": 7,
   "id": "c21376b0",
   "metadata": {},
   "outputs": [
    {
     "name": "stdout",
     "output_type": "stream",
     "text": [
      "\n",
      "DataFrame with total_sales column:\n",
      "   quantity_sold  unit_price  total_sales\n",
      "0              3      188.46       565.38\n",
      "1              4     1912.04      7648.16\n",
      "2              4     1377.75      5511.00\n",
      "3              5      182.31       911.55\n",
      "4              3      499.28      1497.84\n"
     ]
    }
   ],
   "source": [
    "# Adding a new column 'total_sales' as quantity_sold * unit_price\n",
    "df['total_sales'] = df['quantity_sold'] * df['unit_price']\n",
    "print(\"\\nDataFrame with total_sales column:\")\n",
    "print(df[['quantity_sold', 'unit_price', 'total_sales']].head())"
   ]
  },
  {
   "cell_type": "code",
   "execution_count": 8,
   "id": "db7b7f2d",
   "metadata": {},
   "outputs": [
    {
     "name": "stdout",
     "output_type": "stream",
     "text": [
      "   customer_income income_category\n",
      "0         98760.83            High\n",
      "1         69781.93          Medium\n",
      "2         77373.10          Medium\n",
      "3         33383.04             Low\n",
      "4        108999.41            High\n"
     ]
    }
   ],
   "source": [
    "def income_category(income):\n",
    "    if income < 50000:\n",
    "        return 'Low'\n",
    "    elif income < 90000:\n",
    "        return 'Medium'\n",
    "    else:\n",
    "        return 'High'\n",
    "\n",
    "df['income_category'] = df['customer_income'].apply(income_category)\n",
    "print(df[['customer_income', 'income_category']].head())\n"
   ]
  },
  {
   "cell_type": "code",
   "execution_count": 9,
   "id": "19265801",
   "metadata": {},
   "outputs": [
    {
     "name": "stdout",
     "output_type": "stream",
     "text": [
      "Index(['transaction_id', 'customer_id', 'product_id', 'product_name',\n",
      "       'category', 'quantity_sold', 'unit_price', 'transaction_date',\n",
      "       'store_id', 'store_location', 'inventory_level', 'reorder_point',\n",
      "       'reorder_quantity', 'supplier_id', 'supplier_lead_time', 'customer_age',\n",
      "       'customer_gender', 'customer_income', 'customer_loyalty_level',\n",
      "       'payment_method', 'promotion_applied', 'weather_conditions',\n",
      "       'holiday_indicator', 'weekday', 'stockout_indicator',\n",
      "       'forecasted_demand', 'actual_demand', 'total_sales', 'income_category'],\n",
      "      dtype='object')\n"
     ]
    }
   ],
   "source": [
    "# Drop a specific column, for example 'promotion_type'\n",
    "df = df.drop('promotion_type', axis=1)\n",
    "print(df.columns)"
   ]
  },
  {
   "cell_type": "markdown",
   "id": "87fe5ff8",
   "metadata": {},
   "source": [
    "## 3. Filtering and Sorting Data\n",
    "\n",
    "Let's explore how to filter and sort data in Pandas:\n",
    "- Boolean filtering\n",
    "- Multiple conditions\n",
    "- Sorting by single and multiple columns"
   ]
  },
  {
   "cell_type": "code",
   "execution_count": 10,
   "id": "ae0ed649",
   "metadata": {},
   "outputs": [
    {
     "name": "stdout",
     "output_type": "stream",
     "text": [
      "   transaction_id  customer_id  product_id product_name     category  \\\n",
      "0               1         2824       843.0       Fridge  Electronics   \n",
      "1               2         1409       135.0           TV  Electronics   \n",
      "2               3         5506       391.0       Fridge  Electronics   \n",
      "3               4         5012       710.0   Smartphone  Electronics   \n",
      "4               5         4657       116.0       Laptop  Electronics   \n",
      "\n",
      "   quantity_sold  unit_price transaction_date  store_id   store_location  ...  \\\n",
      "0              3      188.46  3/31/2024 21:46         3        Miami, FL  ...   \n",
      "1              4     1912.04  7/28/2024 12:45         5       Dallas, TX  ...   \n",
      "2              4     1377.75   6/10/2024 4:55         1  Los Angeles, CA  ...   \n",
      "3              5      182.31   8/15/2024 1:03         5        Miami, FL  ...   \n",
      "4              3      499.28   9/13/2024 0:45         6      Chicago, IL  ...   \n",
      "\n",
      "   payment_method  promotion_applied  weather_conditions  holiday_indicator  \\\n",
      "0     Credit Card               True              Stormy              False   \n",
      "1            Cash               True               Rainy              False   \n",
      "2            Cash              False               Sunny              False   \n",
      "3            Cash               True               Sunny               True   \n",
      "4  Digital Wallet              False               Sunny              False   \n",
      "\n",
      "    weekday  stockout_indicator forecasted_demand  actual_demand total_sales  \\\n",
      "0    Friday                True               172            179      565.38   \n",
      "1    Monday                True               109            484     7648.16   \n",
      "2   Tuesday                True               289            416     5511.00   \n",
      "3    Sunday               False               174            446      911.55   \n",
      "4  Thursday                True               287            469     1497.84   \n",
      "\n",
      "  income_category  \n",
      "0            High  \n",
      "1          Medium  \n",
      "2          Medium  \n",
      "3             Low  \n",
      "4            High  \n",
      "\n",
      "[5 rows x 29 columns]\n"
     ]
    }
   ],
   "source": [
    "# Filter rows where category is 'Electronics'\n",
    "filtered_df = df[df['category'] == 'Electronics']\n",
    "print(filtered_df.head())\n",
    "\n"
   ]
  },
  {
   "cell_type": "code",
   "execution_count": 11,
   "id": "6c9ef017",
   "metadata": {},
   "outputs": [
    {
     "name": "stdout",
     "output_type": "stream",
     "text": [
      "\n",
      "Transactions in Electronics category with total_sales > 5000:\n",
      "      transaction_id  customer_id  product_id product_name     category  \\\n",
      "1                  2         1409       135.0           TV  Electronics   \n",
      "2                  3         5506       391.0       Fridge  Electronics   \n",
      "8                  9         2424       106.0       Camera  Electronics   \n",
      "17                18         4257       806.0       Laptop  Electronics   \n",
      "23                24         1106       684.0   Headphones  Electronics   \n",
      "...              ...          ...         ...          ...          ...   \n",
      "4945            4946         8668       619.0   Headphones  Electronics   \n",
      "4949            4950         7046       979.0       Laptop  Electronics   \n",
      "4954            4955         2153       305.0           TV  Electronics   \n",
      "4958            4959         9511       170.0           TV  Electronics   \n",
      "4968            4969         3931       439.0       Tablet  Electronics   \n",
      "\n",
      "      quantity_sold  unit_price transaction_date  store_id   store_location  \\\n",
      "1                 4     1912.04  7/28/2024 12:45         5       Dallas, TX   \n",
      "2                 4     1377.75   6/10/2024 4:55         1  Los Angeles, CA   \n",
      "8                 4     1627.48   3/30/2024 4:10        12     New York, NY   \n",
      "17                5     1201.92   6/26/2024 4:41        20     New York, NY   \n",
      "23                5     1503.41   1/30/2024 9:19        14      Chicago, IL   \n",
      "...             ...         ...              ...       ...              ...   \n",
      "4945              5     1136.41  4/25/2024 20:33         4  Los Angeles, CA   \n",
      "4949              5     1923.14   4/30/2024 9:17         4     New York, NY   \n",
      "4954              5     1200.68   8/8/2024 20:56        18       Dallas, TX   \n",
      "4958              3     1838.25  3/23/2024 21:38        10  Los Angeles, CA   \n",
      "4968              5     1174.55   8/9/2024 15:19        19        Miami, FL   \n",
      "\n",
      "      ...  payment_method  promotion_applied  weather_conditions  \\\n",
      "1     ...            Cash               True               Rainy   \n",
      "2     ...            Cash              False               Sunny   \n",
      "8     ...     Credit Card              False               Sunny   \n",
      "17    ...      Debit Card              False               Sunny   \n",
      "23    ...      Debit Card              False              Stormy   \n",
      "...   ...             ...                ...                 ...   \n",
      "4945  ...     Credit Card              False               Rainy   \n",
      "4949  ...  Digital Wallet               True               Sunny   \n",
      "4954  ...  Digital Wallet               True              Cloudy   \n",
      "4958  ...     Credit Card              False              Cloudy   \n",
      "4968  ...      Debit Card               True               Sunny   \n",
      "\n",
      "      holiday_indicator    weekday  stockout_indicator forecasted_demand  \\\n",
      "1                 False     Monday                True               109   \n",
      "2                 False    Tuesday                True               289   \n",
      "8                  True   Saturday                True               476   \n",
      "17                False    Tuesday                True               348   \n",
      "23                 True    Tuesday                True               146   \n",
      "...                 ...        ...                 ...               ...   \n",
      "4945               True     Friday               False               319   \n",
      "4949              False     Friday               False               500   \n",
      "4954               True     Monday               False               112   \n",
      "4958               True     Friday               False               390   \n",
      "4968               True  Wednesday               False               334   \n",
      "\n",
      "      actual_demand total_sales income_category  \n",
      "1               484     7648.16          Medium  \n",
      "2               416     5511.00          Medium  \n",
      "8               428     6509.92          Medium  \n",
      "17              418     6009.60             Low  \n",
      "23              330     7517.05          Medium  \n",
      "...             ...         ...             ...  \n",
      "4945            308     5682.05             Low  \n",
      "4949            472     9615.70            High  \n",
      "4954            411     6003.40            High  \n",
      "4958            467     5514.75            High  \n",
      "4968            143     5872.75          Medium  \n",
      "\n",
      "[564 rows x 29 columns]\n"
     ]
    }
   ],
   "source": [
    "# Multiple conditions in Walmart df\n",
    "print(\"\\nTransactions in Electronics category with total_sales > 5000:\")\n",
    "print(df[(df['category'] == 'Electronics') & (df['total_sales'] > 5000)])\n",
    "\n"
   ]
  },
  {
   "cell_type": "code",
   "execution_count": 12,
   "id": "e8f2491b",
   "metadata": {},
   "outputs": [
    {
     "name": "stdout",
     "output_type": "stream",
     "text": [
      "\n",
      "Sorted by total_sales (descending):\n",
      "      transaction_id  total_sales\n",
      "1459            1460      9999.25\n",
      "1276            1277      9992.70\n",
      "1350            1351      9987.85\n",
      "4452            4453      9982.60\n",
      "1072            1073      9973.45\n"
     ]
    }
   ],
   "source": [
    "# Sorting by single column in Walmart df and showing only 5 rows\n",
    "print(\"\\nSorted by total_sales (descending):\")\n",
    "print(df.sort_values('total_sales', ascending=False)[['transaction_id', 'total_sales']].head(5))\n"
   ]
  },
  {
   "cell_type": "code",
   "execution_count": 13,
   "id": "af924d61",
   "metadata": {},
   "outputs": [
    {
     "name": "stdout",
     "output_type": "stream",
     "text": [
      "\n",
      "Sorted by income_category and customer_age (top 5 rows):\n",
      "     customer_id income_category  customer_age\n",
      "47          2139            High            18\n",
      "313         4335            High            18\n",
      "718         9056            High            18\n",
      "806         6460            High            18\n",
      "850         4681            High            18\n"
     ]
    }
   ],
   "source": [
    "# Sorting by multiple columns and displaying selected columns (showing only 5 rows)\n",
    "print(\"\\nSorted by income_category and customer_age (top 5 rows):\")\n",
    "print(df.sort_values(['income_category', 'customer_age'])[['customer_id', 'income_category', 'customer_age']].head(5))\n"
   ]
  },
  {
   "cell_type": "markdown",
   "id": "fced0088",
   "metadata": {},
   "source": [
    "## 4. Handling Missing Values\n",
    "\n",
    "Missing values are common in real-world data. Let's see how to:\n",
    "- Identify missing values\n",
    "- Remove rows/columns with missing values\n",
    "- Fill missing values\n",
    "- Interpolate missing values"
   ]
  },
  {
   "cell_type": "code",
   "execution_count": 14,
   "id": "f1355e00",
   "metadata": {},
   "outputs": [
    {
     "name": "stdout",
     "output_type": "stream",
     "text": [
      "\n",
      "Missing value count by column:\n",
      "transaction_id            0\n",
      "customer_id               0\n",
      "product_id                2\n",
      "product_name              1\n",
      "category                  2\n",
      "quantity_sold             0\n",
      "unit_price                0\n",
      "transaction_date          0\n",
      "store_id                  0\n",
      "store_location            0\n",
      "inventory_level           0\n",
      "reorder_point             0\n",
      "reorder_quantity          0\n",
      "supplier_id               0\n",
      "supplier_lead_time        0\n",
      "customer_age              0\n",
      "customer_gender           0\n",
      "customer_income           0\n",
      "customer_loyalty_level    0\n",
      "payment_method            0\n",
      "promotion_applied         0\n",
      "weather_conditions        0\n",
      "holiday_indicator         0\n",
      "weekday                   0\n",
      "stockout_indicator        0\n",
      "forecasted_demand         0\n",
      "actual_demand             0\n",
      "total_sales               0\n",
      "income_category           0\n",
      "dtype: int64\n"
     ]
    }
   ],
   "source": [
    "\n",
    "# Check for missing values\n",
    "print(\"\\nMissing value count by column:\")\n",
    "print(df.isnull().sum())\n",
    "\n"
   ]
  },
  {
   "cell_type": "code",
   "execution_count": 15,
   "id": "e0c5475a",
   "metadata": {},
   "outputs": [],
   "source": [
    "import numpy as np\n",
    "\n",
    "# Drop rows where product_id is missing\n",
    "df = df.dropna(subset=['product_id'])\n",
    "\n",
    "# Fill missing values in 'product_name' with 'Unknown'\n",
    "df['product_name'] = df['product_name'].fillna('Unknown')"
   ]
  },
  {
   "cell_type": "code",
   "execution_count": 16,
   "id": "7673c8ec",
   "metadata": {},
   "outputs": [
    {
     "name": "stdout",
     "output_type": "stream",
     "text": [
      "<class 'pandas.core.frame.DataFrame'>\n",
      "Index: 4998 entries, 0 to 4999\n",
      "Data columns (total 29 columns):\n",
      " #   Column                  Non-Null Count  Dtype  \n",
      "---  ------                  --------------  -----  \n",
      " 0   transaction_id          4998 non-null   int64  \n",
      " 1   customer_id             4998 non-null   int64  \n",
      " 2   product_id              4998 non-null   float64\n",
      " 3   product_name            4998 non-null   object \n",
      " 4   category                4996 non-null   object \n",
      " 5   quantity_sold           4998 non-null   int64  \n",
      " 6   unit_price              4998 non-null   float64\n",
      " 7   transaction_date        4998 non-null   object \n",
      " 8   store_id                4998 non-null   int64  \n",
      " 9   store_location          4998 non-null   object \n",
      " 10  inventory_level         4998 non-null   int64  \n",
      " 11  reorder_point           4998 non-null   int64  \n",
      " 12  reorder_quantity        4998 non-null   int64  \n",
      " 13  supplier_id             4998 non-null   int64  \n",
      " 14  supplier_lead_time      4998 non-null   int64  \n",
      " 15  customer_age            4998 non-null   int64  \n",
      " 16  customer_gender         4998 non-null   object \n",
      " 17  customer_income         4998 non-null   float64\n",
      " 18  customer_loyalty_level  4998 non-null   object \n",
      " 19  payment_method          4998 non-null   object \n",
      " 20  promotion_applied       4998 non-null   bool   \n",
      " 21  weather_conditions      4998 non-null   object \n",
      " 22  holiday_indicator       4998 non-null   bool   \n",
      " 23  weekday                 4998 non-null   object \n",
      " 24  stockout_indicator      4998 non-null   bool   \n",
      " 25  forecasted_demand       4998 non-null   int64  \n",
      " 26  actual_demand           4998 non-null   int64  \n",
      " 27  total_sales             4998 non-null   float64\n",
      " 28  income_category         4998 non-null   object \n",
      "dtypes: bool(3), float64(4), int64(12), object(10)\n",
      "memory usage: 1.0+ MB\n",
      "   transaction_id  customer_id  product_id product_name     category  \\\n",
      "0               1         2824       843.0       Fridge  Electronics   \n",
      "1               2         1409       135.0           TV  Electronics   \n",
      "2               3         5506       391.0       Fridge  Electronics   \n",
      "3               4         5012       710.0   Smartphone  Electronics   \n",
      "4               5         4657       116.0       Laptop  Electronics   \n",
      "\n",
      "   quantity_sold  unit_price transaction_date  store_id   store_location  ...  \\\n",
      "0              3      188.46  3/31/2024 21:46         3        Miami, FL  ...   \n",
      "1              4     1912.04  7/28/2024 12:45         5       Dallas, TX  ...   \n",
      "2              4     1377.75   6/10/2024 4:55         1  Los Angeles, CA  ...   \n",
      "3              5      182.31   8/15/2024 1:03         5        Miami, FL  ...   \n",
      "4              3      499.28   9/13/2024 0:45         6      Chicago, IL  ...   \n",
      "\n",
      "   payment_method  promotion_applied  weather_conditions  holiday_indicator  \\\n",
      "0     Credit Card               True              Stormy              False   \n",
      "1            Cash               True               Rainy              False   \n",
      "2            Cash              False               Sunny              False   \n",
      "3            Cash               True               Sunny               True   \n",
      "4  Digital Wallet              False               Sunny              False   \n",
      "\n",
      "    weekday  stockout_indicator forecasted_demand  actual_demand total_sales  \\\n",
      "0    Friday                True               172            179      565.38   \n",
      "1    Monday                True               109            484     7648.16   \n",
      "2   Tuesday                True               289            416     5511.00   \n",
      "3    Sunday               False               174            446      911.55   \n",
      "4  Thursday                True               287            469     1497.84   \n",
      "\n",
      "  income_category  \n",
      "0            High  \n",
      "1          Medium  \n",
      "2          Medium  \n",
      "3             Low  \n",
      "4            High  \n",
      "\n",
      "[5 rows x 29 columns]\n"
     ]
    }
   ],
   "source": [
    "df.info()\n",
    "print(df.head())"
   ]
  },
  {
   "cell_type": "code",
   "execution_count": null,
   "id": "a4080b76",
   "metadata": {},
   "outputs": [],
   "source": [
    "\n",
    "# Forward fill\n",
    "print(\"\\nAfter forward fill:\")\n",
    "print(df_missing.ffill())\n",
    "\n",
    "# Interpolate numerical values\n",
    "print(\"\\nAfter interpolation:\")\n",
    "print(df_missing.interpolate(method='linear'))"
   ]
  },
  {
   "cell_type": "markdown",
   "id": "8cd1ba04",
   "metadata": {},
   "source": [
    "## 5. Data Aggregation and Grouping\n",
    "\n",
    "Let's explore how to:\n",
    "- Group data by one or multiple columns\n",
    "- Apply aggregate functions\n",
    "- Create pivot tables\n",
    "- Use advanced grouping operations"
   ]
  },
  {
   "cell_type": "code",
   "execution_count": 17,
   "id": "4a5f505b",
   "metadata": {},
   "outputs": [
    {
     "name": "stdout",
     "output_type": "stream",
     "text": [
      "            quantity_sold          \n",
      "                      sum      mean\n",
      "category                           \n",
      "Appliances           7167  2.968931\n",
      "Electronics          7734  2.995352\n"
     ]
    }
   ],
   "source": [
    "# Aggregate total_sales and quantity_sold by category\n",
    "agg_result = df.groupby('category').agg({\n",
    "    'quantity_sold': ['sum', 'mean']\n",
    "})\n",
    "print(agg_result)"
   ]
  },
  {
   "cell_type": "markdown",
   "id": "32392d54",
   "metadata": {},
   "source": [
    "## 6. Merging and Joining DataFrames\n",
    "\n",
    "Let's explore different ways to combine DataFrames:\n",
    "- Inner join\n",
    "- Outer join\n",
    "- Left and right joins\n",
    "- Concatenation"
   ]
  },
  {
   "cell_type": "code",
   "execution_count": null,
   "id": "662f4df7",
   "metadata": {},
   "outputs": [],
   "source": [
    "# Create two DataFrames to merge\n",
    "df1 = pd.DataFrame({\n",
    "    'employee_id': [1, 2, 3, 4, 5],\n",
    "    'name': ['John', 'Emma', 'Alex', 'Sarah', 'Michael'],\n",
    "    'department': ['IT', 'IT', 'HR', 'HR', 'Finance']\n",
    "})\n",
    "\n",
    "df2 = pd.DataFrame({\n",
    "    'employee_id': [2, 4, 5, 6, 7],\n",
    "    'project': ['Alpha', 'Beta', 'Gamma', 'Delta', 'Epsilon'],\n",
    "    'role': ['Developer', 'Manager', 'Analyst', 'Developer', 'Manager']\n",
    "})\n",
    "\n",
    "# Inner join\n",
    "print(\"Inner join:\")\n",
    "print(pd.merge(df1, df2, on='employee_id', how='inner'))\n",
    "\n",
    "# Outer join\n",
    "print(\"\\nOuter join:\")\n",
    "print(pd.merge(df1, df2, on='employee_id', how='outer'))\n",
    "\n",
    "# Left join\n",
    "print(\"\\nLeft join:\")\n",
    "print(pd.merge(df1, df2, on='employee_id', how='left'))\n",
    "\n",
    "# Right join\n",
    "print(\"\\nRight join:\")\n",
    "print(pd.merge(df1, df2, on='employee_id', how='right'))\n"
   ]
  },
  {
   "cell_type": "markdown",
   "id": "e502ba87",
   "metadata": {},
   "source": [
    "## Conclusion\n",
    "\n",
    "In this tutorial, we've covered the essential features of Pandas:\n",
    "\n",
    "1. Creating and inspecting DataFrames\n",
    "2. Data manipulation and transformation\n",
    "3. Filtering and sorting\n",
    "4. Handling missing values\n",
    "5. Data aggregation and grouping\n",
    "6. Merging and joining DataFrames\n",
    "7. Time series analysis\n",
    "\n",
    "Additional Pandas features to explore:\n",
    "- Text data operations\n",
    "- Multi-index / hierarchical indexing\n",
    "- Advanced visualization\n",
    "- Data IO operations (read/write to different formats)\n",
    "- Memory optimization\n",
    "- Performance tuning\n",
    "\n",
    "For more information, visit the [Pandas documentation](https://pandas.pydata.org/docs/)."
   ]
  }
 ],
 "metadata": {
  "kernelspec": {
   "display_name": "myenv1",
   "language": "python",
   "name": "python3"
  },
  "language_info": {
   "codemirror_mode": {
    "name": "ipython",
    "version": 3
   },
   "file_extension": ".py",
   "mimetype": "text/x-python",
   "name": "python",
   "nbconvert_exporter": "python",
   "pygments_lexer": "ipython3",
   "version": "3.13.7"
  }
 },
 "nbformat": 4,
 "nbformat_minor": 5
}
